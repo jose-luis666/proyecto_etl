{
 "cells": [
  {
   "cell_type": "code",
   "execution_count": 1,
   "id": "67e38128",
   "metadata": {},
   "outputs": [],
   "source": [
    "import pandas as pd\n",
    "import numpy as np\n",
    "from selenium import webdriver\n",
    "from webdriver_manager.chrome import ChromeDriverManager # sustituye al archivo"
   ]
  },
  {
   "cell_type": "code",
   "execution_count": 3,
   "id": "ef25a8cc",
   "metadata": {},
   "outputs": [],
   "source": [
    "path = 'Spotify_final_dataset.csv'\n",
    "df = pd.read_csv(path)"
   ]
  },
  {
   "cell_type": "code",
   "execution_count": 4,
   "id": "44786c6b",
   "metadata": {},
   "outputs": [
    {
     "data": {
      "text/html": [
       "<div>\n",
       "<style scoped>\n",
       "    .dataframe tbody tr th:only-of-type {\n",
       "        vertical-align: middle;\n",
       "    }\n",
       "\n",
       "    .dataframe tbody tr th {\n",
       "        vertical-align: top;\n",
       "    }\n",
       "\n",
       "    .dataframe thead th {\n",
       "        text-align: right;\n",
       "    }\n",
       "</style>\n",
       "<table border=\"1\" class=\"dataframe\">\n",
       "  <thead>\n",
       "    <tr style=\"text-align: right;\">\n",
       "      <th></th>\n",
       "      <th>Position</th>\n",
       "      <th>Artist Name</th>\n",
       "      <th>Song Name</th>\n",
       "      <th>Days</th>\n",
       "      <th>Top 10 (xTimes)</th>\n",
       "      <th>Peak Position</th>\n",
       "      <th>Peak Position (xTimes)</th>\n",
       "      <th>Peak Streams</th>\n",
       "      <th>Total Streams</th>\n",
       "    </tr>\n",
       "  </thead>\n",
       "  <tbody>\n",
       "    <tr>\n",
       "      <th>0</th>\n",
       "      <td>1</td>\n",
       "      <td>Post Malone</td>\n",
       "      <td>Sunflower  SpiderMan: Into the SpiderVerse</td>\n",
       "      <td>1506</td>\n",
       "      <td>302.0</td>\n",
       "      <td>1</td>\n",
       "      <td>(x29)</td>\n",
       "      <td>2118242</td>\n",
       "      <td>883369738</td>\n",
       "    </tr>\n",
       "    <tr>\n",
       "      <th>1</th>\n",
       "      <td>2</td>\n",
       "      <td>Juice WRLD</td>\n",
       "      <td>Lucid Dreams</td>\n",
       "      <td>1673</td>\n",
       "      <td>178.0</td>\n",
       "      <td>1</td>\n",
       "      <td>(x20)</td>\n",
       "      <td>2127668</td>\n",
       "      <td>864832399</td>\n",
       "    </tr>\n",
       "    <tr>\n",
       "      <th>2</th>\n",
       "      <td>3</td>\n",
       "      <td>Lil Uzi Vert</td>\n",
       "      <td>XO TOUR Llif3</td>\n",
       "      <td>1853</td>\n",
       "      <td>212.0</td>\n",
       "      <td>1</td>\n",
       "      <td>(x4)</td>\n",
       "      <td>1660502</td>\n",
       "      <td>781153024</td>\n",
       "    </tr>\n",
       "    <tr>\n",
       "      <th>3</th>\n",
       "      <td>4</td>\n",
       "      <td>J. Cole</td>\n",
       "      <td>No Role Modelz</td>\n",
       "      <td>2547</td>\n",
       "      <td>6.0</td>\n",
       "      <td>7</td>\n",
       "      <td>0</td>\n",
       "      <td>659366</td>\n",
       "      <td>734857487</td>\n",
       "    </tr>\n",
       "    <tr>\n",
       "      <th>4</th>\n",
       "      <td>5</td>\n",
       "      <td>Post Malone</td>\n",
       "      <td>rockstar</td>\n",
       "      <td>1223</td>\n",
       "      <td>186.0</td>\n",
       "      <td>1</td>\n",
       "      <td>(x124)</td>\n",
       "      <td>2905678</td>\n",
       "      <td>718865961</td>\n",
       "    </tr>\n",
       "    <tr>\n",
       "      <th>...</th>\n",
       "      <td>...</td>\n",
       "      <td>...</td>\n",
       "      <td>...</td>\n",
       "      <td>...</td>\n",
       "      <td>...</td>\n",
       "      <td>...</td>\n",
       "      <td>...</td>\n",
       "      <td>...</td>\n",
       "      <td>...</td>\n",
       "    </tr>\n",
       "    <tr>\n",
       "      <th>11079</th>\n",
       "      <td>11080</td>\n",
       "      <td>The Band Perry</td>\n",
       "      <td>If I Die Young</td>\n",
       "      <td>1</td>\n",
       "      <td>0.0</td>\n",
       "      <td>184</td>\n",
       "      <td>0</td>\n",
       "      <td>51321</td>\n",
       "      <td>51321</td>\n",
       "    </tr>\n",
       "    <tr>\n",
       "      <th>11080</th>\n",
       "      <td>11081</td>\n",
       "      <td>Justin Timberlake</td>\n",
       "      <td>Not a Bad Thing</td>\n",
       "      <td>1</td>\n",
       "      <td>0.0</td>\n",
       "      <td>196</td>\n",
       "      <td>0</td>\n",
       "      <td>49512</td>\n",
       "      <td>49512</td>\n",
       "    </tr>\n",
       "    <tr>\n",
       "      <th>11081</th>\n",
       "      <td>11082</td>\n",
       "      <td>Mike WiLL Made</td>\n",
       "      <td>It  23</td>\n",
       "      <td>1</td>\n",
       "      <td>0.0</td>\n",
       "      <td>167</td>\n",
       "      <td>0</td>\n",
       "      <td>46547</td>\n",
       "      <td>46547</td>\n",
       "    </tr>\n",
       "    <tr>\n",
       "      <th>11082</th>\n",
       "      <td>11083</td>\n",
       "      <td>The Vamps</td>\n",
       "      <td>Somebody To You</td>\n",
       "      <td>1</td>\n",
       "      <td>0.0</td>\n",
       "      <td>200</td>\n",
       "      <td>0</td>\n",
       "      <td>44962</td>\n",
       "      <td>44962</td>\n",
       "    </tr>\n",
       "    <tr>\n",
       "      <th>11083</th>\n",
       "      <td>11084</td>\n",
       "      <td>JAY</td>\n",
       "      <td>Z  Holy Grail</td>\n",
       "      <td>1</td>\n",
       "      <td>0.0</td>\n",
       "      <td>184</td>\n",
       "      <td>0</td>\n",
       "      <td>44323</td>\n",
       "      <td>44323</td>\n",
       "    </tr>\n",
       "  </tbody>\n",
       "</table>\n",
       "<p>11084 rows × 9 columns</p>\n",
       "</div>"
      ],
      "text/plain": [
       "       Position         Artist Name  \\\n",
       "0             1        Post Malone    \n",
       "1             2         Juice WRLD    \n",
       "2             3       Lil Uzi Vert    \n",
       "3             4            J. Cole    \n",
       "4             5        Post Malone    \n",
       "...         ...                 ...   \n",
       "11079     11080     The Band Perry    \n",
       "11080     11081  Justin Timberlake    \n",
       "11081     11082      Mike WiLL Made   \n",
       "11082     11083          The Vamps    \n",
       "11083     11084                 JAY   \n",
       "\n",
       "                                        Song Name  Days  Top 10 (xTimes)  \\\n",
       "0      Sunflower  SpiderMan: Into the SpiderVerse  1506            302.0   \n",
       "1                                    Lucid Dreams  1673            178.0   \n",
       "2                                   XO TOUR Llif3  1853            212.0   \n",
       "3                                  No Role Modelz  2547              6.0   \n",
       "4                                        rockstar  1223            186.0   \n",
       "...                                           ...   ...              ...   \n",
       "11079                              If I Die Young     1              0.0   \n",
       "11080                             Not a Bad Thing     1              0.0   \n",
       "11081                                      It  23     1              0.0   \n",
       "11082                             Somebody To You     1              0.0   \n",
       "11083                               Z  Holy Grail     1              0.0   \n",
       "\n",
       "       Peak Position Peak Position (xTimes)  Peak Streams  Total Streams  \n",
       "0                  1                  (x29)       2118242      883369738  \n",
       "1                  1                  (x20)       2127668      864832399  \n",
       "2                  1                   (x4)       1660502      781153024  \n",
       "3                  7                      0        659366      734857487  \n",
       "4                  1                 (x124)       2905678      718865961  \n",
       "...              ...                    ...           ...            ...  \n",
       "11079            184                      0         51321          51321  \n",
       "11080            196                      0         49512          49512  \n",
       "11081            167                      0         46547          46547  \n",
       "11082            200                      0         44962          44962  \n",
       "11083            184                      0         44323          44323  \n",
       "\n",
       "[11084 rows x 9 columns]"
      ]
     },
     "execution_count": 4,
     "metadata": {},
     "output_type": "execute_result"
    }
   ],
   "source": [
    "df"
   ]
  },
  {
   "cell_type": "code",
   "execution_count": 5,
   "id": "ba8e6fdc",
   "metadata": {},
   "outputs": [],
   "source": [
    "df = df.drop(['Days', 'Position', 'Top 10 (xTimes)', 'Peak Position', 'Peak Position (xTimes)', 'Peak Streams'], axis=1)"
   ]
  },
  {
   "cell_type": "code",
   "execution_count": 6,
   "id": "663bfead",
   "metadata": {},
   "outputs": [
    {
     "data": {
      "text/html": [
       "<div>\n",
       "<style scoped>\n",
       "    .dataframe tbody tr th:only-of-type {\n",
       "        vertical-align: middle;\n",
       "    }\n",
       "\n",
       "    .dataframe tbody tr th {\n",
       "        vertical-align: top;\n",
       "    }\n",
       "\n",
       "    .dataframe thead th {\n",
       "        text-align: right;\n",
       "    }\n",
       "</style>\n",
       "<table border=\"1\" class=\"dataframe\">\n",
       "  <thead>\n",
       "    <tr style=\"text-align: right;\">\n",
       "      <th></th>\n",
       "      <th>Artist Name</th>\n",
       "      <th>Song Name</th>\n",
       "      <th>Total Streams</th>\n",
       "    </tr>\n",
       "  </thead>\n",
       "  <tbody>\n",
       "    <tr>\n",
       "      <th>0</th>\n",
       "      <td>Post Malone</td>\n",
       "      <td>Sunflower  SpiderMan: Into the SpiderVerse</td>\n",
       "      <td>883369738</td>\n",
       "    </tr>\n",
       "    <tr>\n",
       "      <th>1</th>\n",
       "      <td>Juice WRLD</td>\n",
       "      <td>Lucid Dreams</td>\n",
       "      <td>864832399</td>\n",
       "    </tr>\n",
       "    <tr>\n",
       "      <th>2</th>\n",
       "      <td>Lil Uzi Vert</td>\n",
       "      <td>XO TOUR Llif3</td>\n",
       "      <td>781153024</td>\n",
       "    </tr>\n",
       "    <tr>\n",
       "      <th>3</th>\n",
       "      <td>J. Cole</td>\n",
       "      <td>No Role Modelz</td>\n",
       "      <td>734857487</td>\n",
       "    </tr>\n",
       "    <tr>\n",
       "      <th>4</th>\n",
       "      <td>Post Malone</td>\n",
       "      <td>rockstar</td>\n",
       "      <td>718865961</td>\n",
       "    </tr>\n",
       "    <tr>\n",
       "      <th>...</th>\n",
       "      <td>...</td>\n",
       "      <td>...</td>\n",
       "      <td>...</td>\n",
       "    </tr>\n",
       "    <tr>\n",
       "      <th>11079</th>\n",
       "      <td>The Band Perry</td>\n",
       "      <td>If I Die Young</td>\n",
       "      <td>51321</td>\n",
       "    </tr>\n",
       "    <tr>\n",
       "      <th>11080</th>\n",
       "      <td>Justin Timberlake</td>\n",
       "      <td>Not a Bad Thing</td>\n",
       "      <td>49512</td>\n",
       "    </tr>\n",
       "    <tr>\n",
       "      <th>11081</th>\n",
       "      <td>Mike WiLL Made</td>\n",
       "      <td>It  23</td>\n",
       "      <td>46547</td>\n",
       "    </tr>\n",
       "    <tr>\n",
       "      <th>11082</th>\n",
       "      <td>The Vamps</td>\n",
       "      <td>Somebody To You</td>\n",
       "      <td>44962</td>\n",
       "    </tr>\n",
       "    <tr>\n",
       "      <th>11083</th>\n",
       "      <td>JAY</td>\n",
       "      <td>Z  Holy Grail</td>\n",
       "      <td>44323</td>\n",
       "    </tr>\n",
       "  </tbody>\n",
       "</table>\n",
       "<p>11084 rows × 3 columns</p>\n",
       "</div>"
      ],
      "text/plain": [
       "              Artist Name                                   Song Name  \\\n",
       "0            Post Malone   Sunflower  SpiderMan: Into the SpiderVerse   \n",
       "1             Juice WRLD                                 Lucid Dreams   \n",
       "2           Lil Uzi Vert                                XO TOUR Llif3   \n",
       "3                J. Cole                               No Role Modelz   \n",
       "4            Post Malone                                     rockstar   \n",
       "...                   ...                                         ...   \n",
       "11079     The Band Perry                               If I Die Young   \n",
       "11080  Justin Timberlake                              Not a Bad Thing   \n",
       "11081      Mike WiLL Made                                      It  23   \n",
       "11082          The Vamps                              Somebody To You   \n",
       "11083                 JAY                               Z  Holy Grail   \n",
       "\n",
       "       Total Streams  \n",
       "0          883369738  \n",
       "1          864832399  \n",
       "2          781153024  \n",
       "3          734857487  \n",
       "4          718865961  \n",
       "...              ...  \n",
       "11079          51321  \n",
       "11080          49512  \n",
       "11081          46547  \n",
       "11082          44962  \n",
       "11083          44323  \n",
       "\n",
       "[11084 rows x 3 columns]"
      ]
     },
     "execution_count": 6,
     "metadata": {},
     "output_type": "execute_result"
    }
   ],
   "source": [
    "df"
   ]
  },
  {
   "cell_type": "code",
   "execution_count": 7,
   "id": "fb1aaeb5",
   "metadata": {},
   "outputs": [],
   "source": [
    "from selenium.webdriver.common.by import By # By es para buscar por tag, clase, id...\n",
    "\n",
    "import time\n",
    "\n",
    "import warnings\n",
    "warnings.filterwarnings('ignore')"
   ]
  },
  {
   "cell_type": "code",
   "execution_count": 8,
   "id": "ce098ad8",
   "metadata": {},
   "outputs": [],
   "source": [
    "from selenium.webdriver.chrome.options import Options"
   ]
  },
  {
   "cell_type": "code",
   "execution_count": 9,
   "id": "e77a69b4",
   "metadata": {},
   "outputs": [],
   "source": [
    "# opciones del driver\n",
    "\n",
    "opciones=Options()\n",
    "\n",
    "# quita la bandera de ser robot\n",
    "opciones.add_experimental_option('excludeSwitches', ['enable-automation'])\n",
    "opciones.add_experimental_option('useAutomationExtension', False)\n",
    "\n",
    "opciones.headless=False   # si True, no aparece la ventana (headless=no visible)\n",
    "\n",
    "opciones.add_argument('--start-maximized')         # comienza maximizado\n",
    "\n",
    "opciones.add_argument('user-data-dir=selenium')    # mantiene las coockies\n",
    "\n",
    "#driver.find_element(By.XPATH, '//*[@id=\"W0wltc\"]').click()  # rechaza cookies"
   ]
  },
  {
   "cell_type": "code",
   "execution_count": 10,
   "id": "f5d299c4",
   "metadata": {},
   "outputs": [
    {
     "name": "stderr",
     "output_type": "stream",
     "text": [
      "[WDM] - Downloading: 100%|█████████████████| 8.79M/8.79M [00:03<00:00, 3.03MB/s]\n"
     ]
    }
   ],
   "source": [
    "PATH = ChromeDriverManager().install()    # instala driver de chrome"
   ]
  },
  {
   "cell_type": "code",
   "execution_count": 19,
   "id": "7eb73734",
   "metadata": {},
   "outputs": [],
   "source": [
    "URL='https://www.google.es/search?q='\n",
    "\n",
    "busqueda='Post Malone twitter'\n",
    "\n",
    "driver=webdriver.Chrome(PATH, options=opciones)       # abre una venta una de chrome\n",
    "\n",
    "driver.get(URL+busqueda)"
   ]
  },
  {
   "cell_type": "code",
   "execution_count": 21,
   "id": "450dc8f4",
   "metadata": {},
   "outputs": [],
   "source": [
    "caja=driver.find_element(By.CSS_SELECTOR, 'div:nth-child(1) > div > div > div.Z26q7c.UK95Uc.jGGQ5e > div > a')"
   ]
  },
  {
   "cell_type": "code",
   "execution_count": 22,
   "id": "891d2a0d",
   "metadata": {},
   "outputs": [],
   "source": [
    "caja.click()"
   ]
  },
  {
   "cell_type": "code",
   "execution_count": 24,
   "id": "13f4ac8b",
   "metadata": {},
   "outputs": [
    {
     "data": {
      "text/plain": [
       "'7.768 Tweets'"
      ]
     },
     "execution_count": 24,
     "metadata": {},
     "output_type": "execute_result"
    }
   ],
   "source": [
    "tweets = driver.find_element(By.XPATH, '//*[@id=\"react-root\"]/div/div/div[2]/main/div/div/div/div/div/div[1]/div[1]/div/div/div/div/div/div[2]/div/div')\n",
    "tweets.text"
   ]
  },
  {
   "cell_type": "code",
   "execution_count": 25,
   "id": "431e9edc",
   "metadata": {},
   "outputs": [
    {
     "data": {
      "text/plain": [
       "'7 M'"
      ]
     },
     "execution_count": 25,
     "metadata": {},
     "output_type": "execute_result"
    }
   ],
   "source": [
    "followers = driver.find_element(By.XPATH, '//*[@id=\"react-root\"]/div/div/div[2]/main/div/div/div/div/div/div[3]/div/div/div/div/div[4]/div[2]/a/span[1]/span')\n",
    "followers.text"
   ]
  },
  {
   "cell_type": "code",
   "execution_count": null,
   "id": "13f3d87e",
   "metadata": {},
   "outputs": [],
   "source": []
  },
  {
   "cell_type": "code",
   "execution_count": null,
   "id": "1167ddc3",
   "metadata": {},
   "outputs": [],
   "source": []
  },
  {
   "cell_type": "code",
   "execution_count": null,
   "id": "b562330a",
   "metadata": {},
   "outputs": [],
   "source": []
  },
  {
   "cell_type": "code",
   "execution_count": null,
   "id": "98aa8b85",
   "metadata": {},
   "outputs": [],
   "source": []
  },
  {
   "cell_type": "code",
   "execution_count": null,
   "id": "9dcab32d",
   "metadata": {},
   "outputs": [],
   "source": [
    "#INSTAGRAM"
   ]
  },
  {
   "cell_type": "code",
   "execution_count": 148,
   "id": "b2c4161d",
   "metadata": {},
   "outputs": [],
   "source": [
    "URL='https://www.google.es/search?q='\n",
    "\n",
    "busqueda='Post Malone instagram'\n",
    "\n",
    "# driver.find_element(By.XPATH, '//*[@id=\"W0wltc\"]').click()  # rechaza cookies"
   ]
  },
  {
   "cell_type": "code",
   "execution_count": 149,
   "id": "e6825998",
   "metadata": {},
   "outputs": [],
   "source": [
    "PATH = ChromeDriverManager().install()    # instala driver de chrome\n",
    "\n",
    "driver=webdriver.Chrome(PATH, options=opciones)       # abre una venta una de chrome\n",
    "\n",
    "driver.get(URL+busqueda)"
   ]
  },
  {
   "cell_type": "code",
   "execution_count": 150,
   "id": "a8d5b14c",
   "metadata": {},
   "outputs": [],
   "source": [
    "caja_insta = driver.find_element(By.CSS_SELECTOR, 'div:nth-child(1) > div > div > div.Z26q7c.UK95Uc.jGGQ5e > div > a')\n",
    "caja_insta.click()"
   ]
  },
  {
   "cell_type": "code",
   "execution_count": 155,
   "id": "08b41fe5",
   "metadata": {},
   "outputs": [
    {
     "data": {
      "text/plain": [
       "'23,3 M'"
      ]
     },
     "execution_count": 155,
     "metadata": {},
     "output_type": "execute_result"
    }
   ],
   "source": [
    "followers_insta = driver.find_element(By.XPATH, '//*[@id=\"mount_0_0_Rp\"]/div/div/div[1]/div/div/div/div[1]/div[2]/section/main/div/ul/li[2]/button/span/span/span')\n",
    "followers_insta.text"
   ]
  },
  {
   "cell_type": "code",
   "execution_count": null,
   "id": "80318a75",
   "metadata": {},
   "outputs": [],
   "source": []
  },
  {
   "cell_type": "code",
   "execution_count": null,
   "id": "cf8185b9",
   "metadata": {},
   "outputs": [],
   "source": []
  },
  {
   "cell_type": "code",
   "execution_count": null,
   "id": "51f304b9",
   "metadata": {},
   "outputs": [],
   "source": []
  },
  {
   "cell_type": "code",
   "execution_count": null,
   "id": "aa194248",
   "metadata": {},
   "outputs": [],
   "source": []
  },
  {
   "cell_type": "code",
   "execution_count": null,
   "id": "6cdc7238",
   "metadata": {},
   "outputs": [],
   "source": []
  },
  {
   "cell_type": "code",
   "execution_count": 28,
   "id": "d32bbb64",
   "metadata": {},
   "outputs": [],
   "source": [
    "def obtener_datos(artista):\n",
    "    # Configurar el navegador y la búsqueda\n",
    "    PATH = \"/ruta/al/chromedriver\" # Reemplazar con la ruta del driver de Chrome\n",
    "    opciones = webdriver.ChromeOptions()\n",
    "    opciones.add_argument(\"--start-maximized\") # Maximizar ventana\n",
    "    driver = webdriver.Chrome(PATH, options=opciones)\n",
    "    URL = 'https://www.google.es/search?q='\n",
    "    busqueda = artista + 'twitter'\n",
    "\n",
    "    # Abrir página de Google y buscar \"Post Malone twitter\"\n",
    "    driver.get(URL+busqueda)\n",
    "    driver.find_element(By.XPATH, '//*[@id=\"W0wltc\"]').click()  # rechaza cookies\n",
    "\n",
    "    # Hacer clic en el enlace de Twitter de Post Malone\n",
    "    caja = driver.find_element(By.CSS_SELECTOR, 'div:nth-child(1) > div > div > div.Z26q7c.UK95Uc.jGGQ5e > div > a')\n",
    "    caja.click()\n",
    "    \n",
    "    notificaciones = driver.find_element(By.CSS_SELECTOR, 'div:nth-child(2) > div > div > div > div > div > div.css-1dbjc4n.r-1awozwy.r-1kihuf0.r-18u37iz.r-1pi2tsx.r-1777fci.r-1pjcn9w.r-xr3zp9.r-1xcajam.r-ipm5af.r-g6jmlv > div.css-1dbjc4n.r-14lw9ot.r-1867qdf.r-1jgb5lz.r-pm9dpa.r-1ye8kvj.r-1rnoaur.r-13qz1uu > div > div.css-1dbjc4n.r-1awozwy.r-16y2uox > div > div.css-1dbjc4n.r-98ikmy.r-hvns9x > div.css-1dbjc4n.r-13qz1uu > div.css-18t94o4.css-1dbjc4n.r-1niwhzg.r-1ets6dv.r-sdzlij.r-1phboty.r-rs99b7.r-1wzrnnt.r-19yznuf.r-64el8z.r-1ny4l3l.r-1dye5f7.r-o7ynqc.r-6416eg.r-lrvibr > div > span > span')\n",
    "    notificaciones.click()\n",
    "    \n",
    "    # Obtener cantidad de tweets y seguidores en Twitter\n",
    "    tweets = driver.find_element(By.XPATH, '//*[@id=\"react-root\"]/div/div/div[2]/main/div/div/div/div/div/div[1]/div[1]/div/div/div/div/div/div[2]/div/div').text\n",
    "    followers = driver.find_element(By.XPATH, '//*[@id=\"react-root\"]/div/div/div[2]/main/div/div/div/div/div/div[3]/div/div/div/div/div[4]/div[2]/a/span[1]/span').text\n",
    "\n",
    "    # Cambiar la búsqueda a Instagram\n",
    "    busqueda = artista + 'instagram'\n",
    "\n",
    "    # Abrir página de Google y buscar \"Post Malone instagram\"\n",
    "    driver.get(URL+busqueda)\n",
    "\n",
    "    # Hacer clic en el enlace de Instagram de Post Malone\n",
    "    caja_insta = driver.find_element(By.CSS_SELECTOR, 'div:nth-child(1) > div > div > div.Z26q7c.UK95Uc.jGGQ5e > div > a')\n",
    "    caja_insta.click()\n",
    "\n",
    "    # Obtener cantidad de seguidores en Instagram\n",
    "    followers_insta = driver.find_element(By.XPATH, '//*[@id=\"mount_0_0_Rp\"]/div/div/div[1]/div/div/div/div[1]/div[2]/section/main/div/ul/li[2]/button/span/span/span').text\n",
    "\n",
    "    \n",
    "    \n",
    "    # Cerrar el navegador\n",
    "    driver.quit()\n",
    "\n",
    "    # Devolver los datos como una lista\n",
    "    return [tweets, followers, followers_insta]"
   ]
  },
  {
   "cell_type": "code",
   "execution_count": 29,
   "id": "3def9b02",
   "metadata": {},
   "outputs": [
    {
     "ename": "NoSuchElementException",
     "evalue": "Message: no such element: Unable to locate element: {\"method\":\"xpath\",\"selector\":\"//*[@id=\"react-root\"]/div/div/div[2]/main/div/div/div/div/div/div[1]/div[1]/div/div/div/div/div/div[2]/div/div\"}\n  (Session info: chrome=112.0.5615.137)\nStacktrace:\n0   chromedriver                        0x0000000106965ae8 chromedriver + 4958952\n1   chromedriver                        0x000000010695d7b3 chromedriver + 4925363\n2   chromedriver                        0x000000010651f1d6 chromedriver + 475606\n3   chromedriver                        0x0000000106562a20 chromedriver + 752160\n4   chromedriver                        0x0000000106562c81 chromedriver + 752769\n5   chromedriver                        0x00000001065a6f64 chromedriver + 1032036\n6   chromedriver                        0x0000000106588c3d chromedriver + 908349\n7   chromedriver                        0x00000001065a425b chromedriver + 1020507\n8   chromedriver                        0x00000001065889e3 chromedriver + 907747\n9   chromedriver                        0x0000000106552aef chromedriver + 686831\n10  chromedriver                        0x000000010655400e chromedriver + 692238\n11  chromedriver                        0x00000001069219ad chromedriver + 4680109\n12  chromedriver                        0x0000000106926c12 chromedriver + 4701202\n13  chromedriver                        0x000000010692d79f chromedriver + 4728735\n14  chromedriver                        0x0000000106927b7a chromedriver + 4705146\n15  chromedriver                        0x00000001068fa27e chromedriver + 4518526\n16  chromedriver                        0x0000000106947908 chromedriver + 4835592\n17  chromedriver                        0x0000000106947a87 chromedriver + 4835975\n18  chromedriver                        0x000000010695700f chromedriver + 4898831\n19  libsystem_pthread.dylib             0x00007ff8074c4259 _pthread_start + 125\n20  libsystem_pthread.dylib             0x00007ff8074bfc7b thread_start + 15\n",
     "output_type": "error",
     "traceback": [
      "\u001b[0;31m---------------------------------------------------------------------------\u001b[0m",
      "\u001b[0;31mNoSuchElementException\u001b[0m                    Traceback (most recent call last)",
      "\u001b[0;32m/var/folders/75/q598wy0x5rq2j183ndtczjlm0000gn/T/ipykernel_12330/2477512176.py\u001b[0m in \u001b[0;36m<module>\u001b[0;34m\u001b[0m\n\u001b[0;32m----> 1\u001b[0;31m \u001b[0mobtener_datos\u001b[0m\u001b[0;34m(\u001b[0m\u001b[0;34m\"post malone\"\u001b[0m\u001b[0;34m)\u001b[0m\u001b[0;34m\u001b[0m\u001b[0;34m\u001b[0m\u001b[0m\n\u001b[0m",
      "\u001b[0;32m/var/folders/75/q598wy0x5rq2j183ndtczjlm0000gn/T/ipykernel_12330/3588058115.py\u001b[0m in \u001b[0;36mobtener_datos\u001b[0;34m(artista)\u001b[0m\n\u001b[1;32m     17\u001b[0m \u001b[0;34m\u001b[0m\u001b[0m\n\u001b[1;32m     18\u001b[0m     \u001b[0;31m# Obtener cantidad de tweets y seguidores en Twitter\u001b[0m\u001b[0;34m\u001b[0m\u001b[0;34m\u001b[0m\u001b[0m\n\u001b[0;32m---> 19\u001b[0;31m     \u001b[0mtweets\u001b[0m \u001b[0;34m=\u001b[0m \u001b[0mdriver\u001b[0m\u001b[0;34m.\u001b[0m\u001b[0mfind_element\u001b[0m\u001b[0;34m(\u001b[0m\u001b[0mBy\u001b[0m\u001b[0;34m.\u001b[0m\u001b[0mXPATH\u001b[0m\u001b[0;34m,\u001b[0m \u001b[0;34m'//*[@id=\"react-root\"]/div/div/div[2]/main/div/div/div/div/div/div[1]/div[1]/div/div/div/div/div/div[2]/div/div'\u001b[0m\u001b[0;34m)\u001b[0m\u001b[0;34m.\u001b[0m\u001b[0mtext\u001b[0m\u001b[0;34m\u001b[0m\u001b[0;34m\u001b[0m\u001b[0m\n\u001b[0m\u001b[1;32m     20\u001b[0m     \u001b[0mfollowers\u001b[0m \u001b[0;34m=\u001b[0m \u001b[0mdriver\u001b[0m\u001b[0;34m.\u001b[0m\u001b[0mfind_element\u001b[0m\u001b[0;34m(\u001b[0m\u001b[0mBy\u001b[0m\u001b[0;34m.\u001b[0m\u001b[0mXPATH\u001b[0m\u001b[0;34m,\u001b[0m \u001b[0;34m'//*[@id=\"react-root\"]/div/div/div[2]/main/div/div/div/div/div/div[3]/div/div/div/div/div[4]/div[2]/a/span[1]/span'\u001b[0m\u001b[0;34m)\u001b[0m\u001b[0;34m.\u001b[0m\u001b[0mtext\u001b[0m\u001b[0;34m\u001b[0m\u001b[0;34m\u001b[0m\u001b[0m\n\u001b[1;32m     21\u001b[0m \u001b[0;34m\u001b[0m\u001b[0m\n",
      "\u001b[0;32m~/opt/anaconda3/lib/python3.9/site-packages/selenium/webdriver/remote/webdriver.py\u001b[0m in \u001b[0;36mfind_element\u001b[0;34m(self, by, value)\u001b[0m\n\u001b[1;32m    829\u001b[0m             \u001b[0mvalue\u001b[0m \u001b[0;34m=\u001b[0m \u001b[0;34mf'[name=\"{value}\"]'\u001b[0m\u001b[0;34m\u001b[0m\u001b[0;34m\u001b[0m\u001b[0m\n\u001b[1;32m    830\u001b[0m \u001b[0;34m\u001b[0m\u001b[0m\n\u001b[0;32m--> 831\u001b[0;31m         \u001b[0;32mreturn\u001b[0m \u001b[0mself\u001b[0m\u001b[0;34m.\u001b[0m\u001b[0mexecute\u001b[0m\u001b[0;34m(\u001b[0m\u001b[0mCommand\u001b[0m\u001b[0;34m.\u001b[0m\u001b[0mFIND_ELEMENT\u001b[0m\u001b[0;34m,\u001b[0m \u001b[0;34m{\u001b[0m\u001b[0;34m\"using\"\u001b[0m\u001b[0;34m:\u001b[0m \u001b[0mby\u001b[0m\u001b[0;34m,\u001b[0m \u001b[0;34m\"value\"\u001b[0m\u001b[0;34m:\u001b[0m \u001b[0mvalue\u001b[0m\u001b[0;34m}\u001b[0m\u001b[0;34m)\u001b[0m\u001b[0;34m[\u001b[0m\u001b[0;34m\"value\"\u001b[0m\u001b[0;34m]\u001b[0m\u001b[0;34m\u001b[0m\u001b[0;34m\u001b[0m\u001b[0m\n\u001b[0m\u001b[1;32m    832\u001b[0m \u001b[0;34m\u001b[0m\u001b[0m\n\u001b[1;32m    833\u001b[0m     \u001b[0;32mdef\u001b[0m \u001b[0mfind_elements\u001b[0m\u001b[0;34m(\u001b[0m\u001b[0mself\u001b[0m\u001b[0;34m,\u001b[0m \u001b[0mby\u001b[0m\u001b[0;34m=\u001b[0m\u001b[0mBy\u001b[0m\u001b[0;34m.\u001b[0m\u001b[0mID\u001b[0m\u001b[0;34m,\u001b[0m \u001b[0mvalue\u001b[0m\u001b[0;34m:\u001b[0m \u001b[0mOptional\u001b[0m\u001b[0;34m[\u001b[0m\u001b[0mstr\u001b[0m\u001b[0;34m]\u001b[0m \u001b[0;34m=\u001b[0m \u001b[0;32mNone\u001b[0m\u001b[0;34m)\u001b[0m \u001b[0;34m->\u001b[0m \u001b[0mList\u001b[0m\u001b[0;34m[\u001b[0m\u001b[0mWebElement\u001b[0m\u001b[0;34m]\u001b[0m\u001b[0;34m:\u001b[0m\u001b[0;34m\u001b[0m\u001b[0;34m\u001b[0m\u001b[0m\n",
      "\u001b[0;32m~/opt/anaconda3/lib/python3.9/site-packages/selenium/webdriver/remote/webdriver.py\u001b[0m in \u001b[0;36mexecute\u001b[0;34m(self, driver_command, params)\u001b[0m\n\u001b[1;32m    438\u001b[0m         \u001b[0mresponse\u001b[0m \u001b[0;34m=\u001b[0m \u001b[0mself\u001b[0m\u001b[0;34m.\u001b[0m\u001b[0mcommand_executor\u001b[0m\u001b[0;34m.\u001b[0m\u001b[0mexecute\u001b[0m\u001b[0;34m(\u001b[0m\u001b[0mdriver_command\u001b[0m\u001b[0;34m,\u001b[0m \u001b[0mparams\u001b[0m\u001b[0;34m)\u001b[0m\u001b[0;34m\u001b[0m\u001b[0;34m\u001b[0m\u001b[0m\n\u001b[1;32m    439\u001b[0m         \u001b[0;32mif\u001b[0m \u001b[0mresponse\u001b[0m\u001b[0;34m:\u001b[0m\u001b[0;34m\u001b[0m\u001b[0;34m\u001b[0m\u001b[0m\n\u001b[0;32m--> 440\u001b[0;31m             \u001b[0mself\u001b[0m\u001b[0;34m.\u001b[0m\u001b[0merror_handler\u001b[0m\u001b[0;34m.\u001b[0m\u001b[0mcheck_response\u001b[0m\u001b[0;34m(\u001b[0m\u001b[0mresponse\u001b[0m\u001b[0;34m)\u001b[0m\u001b[0;34m\u001b[0m\u001b[0;34m\u001b[0m\u001b[0m\n\u001b[0m\u001b[1;32m    441\u001b[0m             \u001b[0mresponse\u001b[0m\u001b[0;34m[\u001b[0m\u001b[0;34m\"value\"\u001b[0m\u001b[0;34m]\u001b[0m \u001b[0;34m=\u001b[0m \u001b[0mself\u001b[0m\u001b[0;34m.\u001b[0m\u001b[0m_unwrap_value\u001b[0m\u001b[0;34m(\u001b[0m\u001b[0mresponse\u001b[0m\u001b[0;34m.\u001b[0m\u001b[0mget\u001b[0m\u001b[0;34m(\u001b[0m\u001b[0;34m\"value\"\u001b[0m\u001b[0;34m,\u001b[0m \u001b[0;32mNone\u001b[0m\u001b[0;34m)\u001b[0m\u001b[0;34m)\u001b[0m\u001b[0;34m\u001b[0m\u001b[0;34m\u001b[0m\u001b[0m\n\u001b[1;32m    442\u001b[0m             \u001b[0;32mreturn\u001b[0m \u001b[0mresponse\u001b[0m\u001b[0;34m\u001b[0m\u001b[0;34m\u001b[0m\u001b[0m\n",
      "\u001b[0;32m~/opt/anaconda3/lib/python3.9/site-packages/selenium/webdriver/remote/errorhandler.py\u001b[0m in \u001b[0;36mcheck_response\u001b[0;34m(self, response)\u001b[0m\n\u001b[1;32m    243\u001b[0m                 \u001b[0malert_text\u001b[0m \u001b[0;34m=\u001b[0m \u001b[0mvalue\u001b[0m\u001b[0;34m[\u001b[0m\u001b[0;34m\"alert\"\u001b[0m\u001b[0;34m]\u001b[0m\u001b[0;34m.\u001b[0m\u001b[0mget\u001b[0m\u001b[0;34m(\u001b[0m\u001b[0;34m\"text\"\u001b[0m\u001b[0;34m)\u001b[0m\u001b[0;34m\u001b[0m\u001b[0;34m\u001b[0m\u001b[0m\n\u001b[1;32m    244\u001b[0m             \u001b[0;32mraise\u001b[0m \u001b[0mexception_class\u001b[0m\u001b[0;34m(\u001b[0m\u001b[0mmessage\u001b[0m\u001b[0;34m,\u001b[0m \u001b[0mscreen\u001b[0m\u001b[0;34m,\u001b[0m \u001b[0mstacktrace\u001b[0m\u001b[0;34m,\u001b[0m \u001b[0malert_text\u001b[0m\u001b[0;34m)\u001b[0m  \u001b[0;31m# type: ignore[call-arg]  # mypy is not smart enough here\u001b[0m\u001b[0;34m\u001b[0m\u001b[0;34m\u001b[0m\u001b[0m\n\u001b[0;32m--> 245\u001b[0;31m         \u001b[0;32mraise\u001b[0m \u001b[0mexception_class\u001b[0m\u001b[0;34m(\u001b[0m\u001b[0mmessage\u001b[0m\u001b[0;34m,\u001b[0m \u001b[0mscreen\u001b[0m\u001b[0;34m,\u001b[0m \u001b[0mstacktrace\u001b[0m\u001b[0;34m)\u001b[0m\u001b[0;34m\u001b[0m\u001b[0;34m\u001b[0m\u001b[0m\n\u001b[0m",
      "\u001b[0;31mNoSuchElementException\u001b[0m: Message: no such element: Unable to locate element: {\"method\":\"xpath\",\"selector\":\"//*[@id=\"react-root\"]/div/div/div[2]/main/div/div/div/div/div/div[1]/div[1]/div/div/div/div/div/div[2]/div/div\"}\n  (Session info: chrome=112.0.5615.137)\nStacktrace:\n0   chromedriver                        0x0000000106965ae8 chromedriver + 4958952\n1   chromedriver                        0x000000010695d7b3 chromedriver + 4925363\n2   chromedriver                        0x000000010651f1d6 chromedriver + 475606\n3   chromedriver                        0x0000000106562a20 chromedriver + 752160\n4   chromedriver                        0x0000000106562c81 chromedriver + 752769\n5   chromedriver                        0x00000001065a6f64 chromedriver + 1032036\n6   chromedriver                        0x0000000106588c3d chromedriver + 908349\n7   chromedriver                        0x00000001065a425b chromedriver + 1020507\n8   chromedriver                        0x00000001065889e3 chromedriver + 907747\n9   chromedriver                        0x0000000106552aef chromedriver + 686831\n10  chromedriver                        0x000000010655400e chromedriver + 692238\n11  chromedriver                        0x00000001069219ad chromedriver + 4680109\n12  chromedriver                        0x0000000106926c12 chromedriver + 4701202\n13  chromedriver                        0x000000010692d79f chromedriver + 4728735\n14  chromedriver                        0x0000000106927b7a chromedriver + 4705146\n15  chromedriver                        0x00000001068fa27e chromedriver + 4518526\n16  chromedriver                        0x0000000106947908 chromedriver + 4835592\n17  chromedriver                        0x0000000106947a87 chromedriver + 4835975\n18  chromedriver                        0x000000010695700f chromedriver + 4898831\n19  libsystem_pthread.dylib             0x00007ff8074c4259 _pthread_start + 125\n20  libsystem_pthread.dylib             0x00007ff8074bfc7b thread_start + 15\n"
     ]
    }
   ],
   "source": [
    "obtener_datos(\"post malone\")"
   ]
  },
  {
   "cell_type": "code",
   "execution_count": null,
   "id": "02887242",
   "metadata": {},
   "outputs": [],
   "source": []
  },
  {
   "cell_type": "code",
   "execution_count": null,
   "id": "95e0c56f",
   "metadata": {},
   "outputs": [],
   "source": []
  },
  {
   "cell_type": "code",
   "execution_count": null,
   "id": "c01c40d3",
   "metadata": {},
   "outputs": [],
   "source": []
  },
  {
   "cell_type": "code",
   "execution_count": null,
   "id": "0d8c71e2",
   "metadata": {},
   "outputs": [],
   "source": []
  },
  {
   "cell_type": "code",
   "execution_count": null,
   "id": "8508d694",
   "metadata": {},
   "outputs": [],
   "source": []
  },
  {
   "cell_type": "code",
   "execution_count": null,
   "id": "1ab4778f",
   "metadata": {},
   "outputs": [],
   "source": []
  },
  {
   "cell_type": "code",
   "execution_count": null,
   "id": "7fe924fb",
   "metadata": {},
   "outputs": [],
   "source": []
  },
  {
   "cell_type": "code",
   "execution_count": null,
   "id": "ac6016cb",
   "metadata": {},
   "outputs": [],
   "source": []
  },
  {
   "cell_type": "code",
   "execution_count": null,
   "id": "f7125eaf",
   "metadata": {},
   "outputs": [],
   "source": []
  },
  {
   "cell_type": "code",
   "execution_count": null,
   "id": "8ae4a6d7",
   "metadata": {},
   "outputs": [],
   "source": []
  },
  {
   "cell_type": "code",
   "execution_count": 213,
   "id": "818dad64",
   "metadata": {},
   "outputs": [],
   "source": [
    "def obtener_datos_por_artista(artista):\n",
    "    # Configurar el navegador y la búsqueda\n",
    "    PATH = \"/ruta/al/chromedriver\" # Reemplazar con la ruta del driver de Chrome\n",
    "    opciones = webdriver.ChromeOptions()\n",
    "    opciones.add_argument(\"--start-maximized\") # Maximizar ventana\n",
    "    driver = webdriver.Chrome(PATH, options=opciones)\n",
    "    URL = 'https://www.google.es/search?q='\n",
    "    busqueda = artista + ' twitter'\n",
    "\n",
    "    # Abrir página de Google y buscar el artista en Twitter\n",
    "    driver.get(URL+busqueda)\n",
    "\n",
    "    # Hacer clic en el enlace de Twitter del artista\n",
    "    caja = driver.find_element(By.CSS_SELECTOR, 'div:nth-child(1) > div > div > div.Z26q7c.UK95Uc.jGGQ5e > div > a')\n",
    "    caja.click()\n",
    "\n",
    "    # Obtener cantidad de tweets y seguidores en Twitter\n",
    "    tweets = driver.find_element(By.XPATH, '//*[@id=\"react-root\"]/div/div/div[2]/main/div/div/div/div/div/div[1]/div[1]/div/div/div/div/div/div[2]/div/div').text\n",
    "    followers = driver.find_element(By.XPATH, '//*[@id=\"react-root\"]/div/div/div[2]/main/div/div/div/div/div/div[3]/div/div/div/div/div[4]/div[2]/a/span[1]/span').text\n",
    "\n",
    "    # Cambiar la búsqueda a Instagram\n",
    "    busqueda = artista + ' instagram'\n",
    "\n",
    "    # Abrir página de Google y buscar el artista en Instagram\n",
    "    driver.get(URL+busqueda)\n",
    "\n",
    "    # Hacer clic en el enlace de Instagram del artista\n",
    "    caja_insta = driver.find_element(By.CSS_SELECTOR, 'div:nth-child(1) > div > div > div.Z26q7c.UK95Uc.jGGQ5e > div > a')\n",
    "    caja_insta.click()\n",
    "\n",
    "    # Obtener cantidad de seguidores en Instagram\n",
    "    followers_insta = driver.find_element(By.XPATH, '//*[@id=\"mount_0_0_Rp\"]/div/div/div[1]/div/div/div/div[1]/div[2]/section/main/div/ul/li[2]/button/span/span/span').text\n",
    "\n",
    "    # Cerrar el navegador\n",
    "    driver.quit()\n",
    "\n",
    "    # Devolver los datos como una lista\n",
    "    return [tweets, followers, followers_insta]\n"
   ]
  },
  {
   "cell_type": "code",
   "execution_count": 214,
   "id": "03d6f620",
   "metadata": {},
   "outputs": [
    {
     "ename": "ElementClickInterceptedException",
     "evalue": "Message: element click intercepted: Element <a href=\"https://twitter.com/PostMalone\" data-ved=\"2ahUKEwiRgPrY4N7-AhUXPOwKHdijCtcQFnoECBAQAQ\" ping=\"/url?sa=t&amp;source=web&amp;rct=j&amp;url=https://twitter.com/PostMalone&amp;ved=2ahUKEwiRgPrY4N7-AhUXPOwKHdijCtcQFnoECBAQAQ\">...</a> is not clickable at point (345, 315). Other element would receive the click: <div class=\"GZ7xNe\">...</div>\n  (Session info: chrome=112.0.5615.137)\nStacktrace:\n0   chromedriver                        0x0000000101d47ae8 chromedriver + 4958952\n1   chromedriver                        0x0000000101d3f7b3 chromedriver + 4925363\n2   chromedriver                        0x00000001019011d6 chromedriver + 475606\n3   chromedriver                        0x000000010194e321 chromedriver + 791329\n4   chromedriver                        0x000000010194b36e chromedriver + 779118\n5   chromedriver                        0x0000000101947fd4 chromedriver + 765908\n6   chromedriver                        0x00000001019469af chromedriver + 760239\n7   chromedriver                        0x0000000101937283 chromedriver + 696963\n8   chromedriver                        0x000000010196ac12 chromedriver + 908306\n9   chromedriver                        0x00000001019368f1 chromedriver + 694513\n10  chromedriver                        0x000000010196adce chromedriver + 908750\n11  chromedriver                        0x000000010198625b chromedriver + 1020507\n12  chromedriver                        0x000000010196a9e3 chromedriver + 907747\n13  chromedriver                        0x0000000101934aef chromedriver + 686831\n14  chromedriver                        0x000000010193600e chromedriver + 692238\n15  chromedriver                        0x0000000101d039ad chromedriver + 4680109\n16  chromedriver                        0x0000000101d08c12 chromedriver + 4701202\n17  chromedriver                        0x0000000101d0f79f chromedriver + 4728735\n18  chromedriver                        0x0000000101d09b7a chromedriver + 4705146\n19  chromedriver                        0x0000000101cdc27e chromedriver + 4518526\n20  chromedriver                        0x0000000101d29908 chromedriver + 4835592\n21  chromedriver                        0x0000000101d29a87 chromedriver + 4835975\n22  chromedriver                        0x0000000101d3900f chromedriver + 4898831\n23  libsystem_pthread.dylib             0x00007ff8074c4259 _pthread_start + 125\n24  libsystem_pthread.dylib             0x00007ff8074bfc7b thread_start + 15\n",
     "output_type": "error",
     "traceback": [
      "\u001b[0;31m---------------------------------------------------------------------------\u001b[0m",
      "\u001b[0;31mElementClickInterceptedException\u001b[0m          Traceback (most recent call last)",
      "\u001b[0;32m/var/folders/75/q598wy0x5rq2j183ndtczjlm0000gn/T/ipykernel_99837/2932531348.py\u001b[0m in \u001b[0;36m<module>\u001b[0;34m\u001b[0m\n\u001b[1;32m      1\u001b[0m \u001b[0;31m# Aplicar la función a cada celda de la columna \"Artist Name\"\u001b[0m\u001b[0;34m\u001b[0m\u001b[0;34m\u001b[0m\u001b[0m\n\u001b[0;32m----> 2\u001b[0;31m \u001b[0mdf\u001b[0m\u001b[0;34m[\u001b[0m\u001b[0;34m[\u001b[0m\u001b[0;34m'Twitter - Tweets'\u001b[0m\u001b[0;34m,\u001b[0m \u001b[0;34m'Twitter - Followers'\u001b[0m\u001b[0;34m,\u001b[0m \u001b[0;34m'Instagram - Followers'\u001b[0m\u001b[0;34m]\u001b[0m\u001b[0;34m]\u001b[0m \u001b[0;34m=\u001b[0m \u001b[0mdf\u001b[0m\u001b[0;34m[\u001b[0m\u001b[0;34m'Artist Name'\u001b[0m\u001b[0;34m]\u001b[0m\u001b[0;34m.\u001b[0m\u001b[0mapply\u001b[0m\u001b[0;34m(\u001b[0m\u001b[0mobtener_datos_por_artista\u001b[0m\u001b[0;34m)\u001b[0m\u001b[0;34m.\u001b[0m\u001b[0mapply\u001b[0m\u001b[0;34m(\u001b[0m\u001b[0mpd\u001b[0m\u001b[0;34m.\u001b[0m\u001b[0mSeries\u001b[0m\u001b[0;34m)\u001b[0m\u001b[0;34m\u001b[0m\u001b[0;34m\u001b[0m\u001b[0m\n\u001b[0m",
      "\u001b[0;32m~/opt/anaconda3/lib/python3.9/site-packages/pandas/core/series.py\u001b[0m in \u001b[0;36mapply\u001b[0;34m(self, func, convert_dtype, args, **kwargs)\u001b[0m\n\u001b[1;32m   4431\u001b[0m         \u001b[0mdtype\u001b[0m\u001b[0;34m:\u001b[0m \u001b[0mfloat64\u001b[0m\u001b[0;34m\u001b[0m\u001b[0;34m\u001b[0m\u001b[0m\n\u001b[1;32m   4432\u001b[0m         \"\"\"\n\u001b[0;32m-> 4433\u001b[0;31m         \u001b[0;32mreturn\u001b[0m \u001b[0mSeriesApply\u001b[0m\u001b[0;34m(\u001b[0m\u001b[0mself\u001b[0m\u001b[0;34m,\u001b[0m \u001b[0mfunc\u001b[0m\u001b[0;34m,\u001b[0m \u001b[0mconvert_dtype\u001b[0m\u001b[0;34m,\u001b[0m \u001b[0margs\u001b[0m\u001b[0;34m,\u001b[0m \u001b[0mkwargs\u001b[0m\u001b[0;34m)\u001b[0m\u001b[0;34m.\u001b[0m\u001b[0mapply\u001b[0m\u001b[0;34m(\u001b[0m\u001b[0;34m)\u001b[0m\u001b[0;34m\u001b[0m\u001b[0;34m\u001b[0m\u001b[0m\n\u001b[0m\u001b[1;32m   4434\u001b[0m \u001b[0;34m\u001b[0m\u001b[0m\n\u001b[1;32m   4435\u001b[0m     def _reduce(\n",
      "\u001b[0;32m~/opt/anaconda3/lib/python3.9/site-packages/pandas/core/apply.py\u001b[0m in \u001b[0;36mapply\u001b[0;34m(self)\u001b[0m\n\u001b[1;32m   1086\u001b[0m             \u001b[0;32mreturn\u001b[0m \u001b[0mself\u001b[0m\u001b[0;34m.\u001b[0m\u001b[0mapply_str\u001b[0m\u001b[0;34m(\u001b[0m\u001b[0;34m)\u001b[0m\u001b[0;34m\u001b[0m\u001b[0;34m\u001b[0m\u001b[0m\n\u001b[1;32m   1087\u001b[0m \u001b[0;34m\u001b[0m\u001b[0m\n\u001b[0;32m-> 1088\u001b[0;31m         \u001b[0;32mreturn\u001b[0m \u001b[0mself\u001b[0m\u001b[0;34m.\u001b[0m\u001b[0mapply_standard\u001b[0m\u001b[0;34m(\u001b[0m\u001b[0;34m)\u001b[0m\u001b[0;34m\u001b[0m\u001b[0;34m\u001b[0m\u001b[0m\n\u001b[0m\u001b[1;32m   1089\u001b[0m \u001b[0;34m\u001b[0m\u001b[0m\n\u001b[1;32m   1090\u001b[0m     \u001b[0;32mdef\u001b[0m \u001b[0magg\u001b[0m\u001b[0;34m(\u001b[0m\u001b[0mself\u001b[0m\u001b[0;34m)\u001b[0m\u001b[0;34m:\u001b[0m\u001b[0;34m\u001b[0m\u001b[0;34m\u001b[0m\u001b[0m\n",
      "\u001b[0;32m~/opt/anaconda3/lib/python3.9/site-packages/pandas/core/apply.py\u001b[0m in \u001b[0;36mapply_standard\u001b[0;34m(self)\u001b[0m\n\u001b[1;32m   1141\u001b[0m                 \u001b[0;31m# List[Union[Callable[..., Any], str]]]]]\"; expected\u001b[0m\u001b[0;34m\u001b[0m\u001b[0;34m\u001b[0m\u001b[0m\n\u001b[1;32m   1142\u001b[0m                 \u001b[0;31m# \"Callable[[Any], Any]\"\u001b[0m\u001b[0;34m\u001b[0m\u001b[0;34m\u001b[0m\u001b[0m\n\u001b[0;32m-> 1143\u001b[0;31m                 mapped = lib.map_infer(\n\u001b[0m\u001b[1;32m   1144\u001b[0m                     \u001b[0mvalues\u001b[0m\u001b[0;34m,\u001b[0m\u001b[0;34m\u001b[0m\u001b[0;34m\u001b[0m\u001b[0m\n\u001b[1;32m   1145\u001b[0m                     \u001b[0mf\u001b[0m\u001b[0;34m,\u001b[0m  \u001b[0;31m# type: ignore[arg-type]\u001b[0m\u001b[0;34m\u001b[0m\u001b[0;34m\u001b[0m\u001b[0m\n",
      "\u001b[0;32m~/opt/anaconda3/lib/python3.9/site-packages/pandas/_libs/lib.pyx\u001b[0m in \u001b[0;36mpandas._libs.lib.map_infer\u001b[0;34m()\u001b[0m\n",
      "\u001b[0;32m/var/folders/75/q598wy0x5rq2j183ndtczjlm0000gn/T/ipykernel_99837/891452745.py\u001b[0m in \u001b[0;36mobtener_datos_por_artista\u001b[0;34m(artista)\u001b[0m\n\u001b[1;32m     13\u001b[0m     \u001b[0;31m# Hacer clic en el enlace de Twitter del artista\u001b[0m\u001b[0;34m\u001b[0m\u001b[0;34m\u001b[0m\u001b[0m\n\u001b[1;32m     14\u001b[0m     \u001b[0mcaja\u001b[0m \u001b[0;34m=\u001b[0m \u001b[0mdriver\u001b[0m\u001b[0;34m.\u001b[0m\u001b[0mfind_element\u001b[0m\u001b[0;34m(\u001b[0m\u001b[0mBy\u001b[0m\u001b[0;34m.\u001b[0m\u001b[0mCSS_SELECTOR\u001b[0m\u001b[0;34m,\u001b[0m \u001b[0;34m'div:nth-child(1) > div > div > div.Z26q7c.UK95Uc.jGGQ5e > div > a'\u001b[0m\u001b[0;34m)\u001b[0m\u001b[0;34m\u001b[0m\u001b[0;34m\u001b[0m\u001b[0m\n\u001b[0;32m---> 15\u001b[0;31m     \u001b[0mcaja\u001b[0m\u001b[0;34m.\u001b[0m\u001b[0mclick\u001b[0m\u001b[0;34m(\u001b[0m\u001b[0;34m)\u001b[0m\u001b[0;34m\u001b[0m\u001b[0;34m\u001b[0m\u001b[0m\n\u001b[0m\u001b[1;32m     16\u001b[0m \u001b[0;34m\u001b[0m\u001b[0m\n\u001b[1;32m     17\u001b[0m     \u001b[0;31m# Obtener cantidad de tweets y seguidores en Twitter\u001b[0m\u001b[0;34m\u001b[0m\u001b[0;34m\u001b[0m\u001b[0m\n",
      "\u001b[0;32m~/opt/anaconda3/lib/python3.9/site-packages/selenium/webdriver/remote/webelement.py\u001b[0m in \u001b[0;36mclick\u001b[0;34m(self)\u001b[0m\n\u001b[1;32m     92\u001b[0m     \u001b[0;32mdef\u001b[0m \u001b[0mclick\u001b[0m\u001b[0;34m(\u001b[0m\u001b[0mself\u001b[0m\u001b[0;34m)\u001b[0m \u001b[0;34m->\u001b[0m \u001b[0;32mNone\u001b[0m\u001b[0;34m:\u001b[0m\u001b[0;34m\u001b[0m\u001b[0;34m\u001b[0m\u001b[0m\n\u001b[1;32m     93\u001b[0m         \u001b[0;34m\"\"\"Clicks the element.\"\"\"\u001b[0m\u001b[0;34m\u001b[0m\u001b[0;34m\u001b[0m\u001b[0m\n\u001b[0;32m---> 94\u001b[0;31m         \u001b[0mself\u001b[0m\u001b[0;34m.\u001b[0m\u001b[0m_execute\u001b[0m\u001b[0;34m(\u001b[0m\u001b[0mCommand\u001b[0m\u001b[0;34m.\u001b[0m\u001b[0mCLICK_ELEMENT\u001b[0m\u001b[0;34m)\u001b[0m\u001b[0;34m\u001b[0m\u001b[0;34m\u001b[0m\u001b[0m\n\u001b[0m\u001b[1;32m     95\u001b[0m \u001b[0;34m\u001b[0m\u001b[0m\n\u001b[1;32m     96\u001b[0m     \u001b[0;32mdef\u001b[0m \u001b[0msubmit\u001b[0m\u001b[0;34m(\u001b[0m\u001b[0mself\u001b[0m\u001b[0;34m)\u001b[0m\u001b[0;34m:\u001b[0m\u001b[0;34m\u001b[0m\u001b[0;34m\u001b[0m\u001b[0m\n",
      "\u001b[0;32m~/opt/anaconda3/lib/python3.9/site-packages/selenium/webdriver/remote/webelement.py\u001b[0m in \u001b[0;36m_execute\u001b[0;34m(self, command, params)\u001b[0m\n\u001b[1;32m    401\u001b[0m             \u001b[0mparams\u001b[0m \u001b[0;34m=\u001b[0m \u001b[0;34m{\u001b[0m\u001b[0;34m}\u001b[0m\u001b[0;34m\u001b[0m\u001b[0;34m\u001b[0m\u001b[0m\n\u001b[1;32m    402\u001b[0m         \u001b[0mparams\u001b[0m\u001b[0;34m[\u001b[0m\u001b[0;34m\"id\"\u001b[0m\u001b[0;34m]\u001b[0m \u001b[0;34m=\u001b[0m \u001b[0mself\u001b[0m\u001b[0;34m.\u001b[0m\u001b[0m_id\u001b[0m\u001b[0;34m\u001b[0m\u001b[0;34m\u001b[0m\u001b[0m\n\u001b[0;32m--> 403\u001b[0;31m         \u001b[0;32mreturn\u001b[0m \u001b[0mself\u001b[0m\u001b[0;34m.\u001b[0m\u001b[0m_parent\u001b[0m\u001b[0;34m.\u001b[0m\u001b[0mexecute\u001b[0m\u001b[0;34m(\u001b[0m\u001b[0mcommand\u001b[0m\u001b[0;34m,\u001b[0m \u001b[0mparams\u001b[0m\u001b[0;34m)\u001b[0m\u001b[0;34m\u001b[0m\u001b[0;34m\u001b[0m\u001b[0m\n\u001b[0m\u001b[1;32m    404\u001b[0m \u001b[0;34m\u001b[0m\u001b[0m\n\u001b[1;32m    405\u001b[0m     \u001b[0;32mdef\u001b[0m \u001b[0mfind_element\u001b[0m\u001b[0;34m(\u001b[0m\u001b[0mself\u001b[0m\u001b[0;34m,\u001b[0m \u001b[0mby\u001b[0m\u001b[0;34m=\u001b[0m\u001b[0mBy\u001b[0m\u001b[0;34m.\u001b[0m\u001b[0mID\u001b[0m\u001b[0;34m,\u001b[0m \u001b[0mvalue\u001b[0m\u001b[0;34m=\u001b[0m\u001b[0;32mNone\u001b[0m\u001b[0;34m)\u001b[0m \u001b[0;34m->\u001b[0m \u001b[0mWebElement\u001b[0m\u001b[0;34m:\u001b[0m\u001b[0;34m\u001b[0m\u001b[0;34m\u001b[0m\u001b[0m\n",
      "\u001b[0;32m~/opt/anaconda3/lib/python3.9/site-packages/selenium/webdriver/remote/webdriver.py\u001b[0m in \u001b[0;36mexecute\u001b[0;34m(self, driver_command, params)\u001b[0m\n\u001b[1;32m    438\u001b[0m         \u001b[0mresponse\u001b[0m \u001b[0;34m=\u001b[0m \u001b[0mself\u001b[0m\u001b[0;34m.\u001b[0m\u001b[0mcommand_executor\u001b[0m\u001b[0;34m.\u001b[0m\u001b[0mexecute\u001b[0m\u001b[0;34m(\u001b[0m\u001b[0mdriver_command\u001b[0m\u001b[0;34m,\u001b[0m \u001b[0mparams\u001b[0m\u001b[0;34m)\u001b[0m\u001b[0;34m\u001b[0m\u001b[0;34m\u001b[0m\u001b[0m\n\u001b[1;32m    439\u001b[0m         \u001b[0;32mif\u001b[0m \u001b[0mresponse\u001b[0m\u001b[0;34m:\u001b[0m\u001b[0;34m\u001b[0m\u001b[0;34m\u001b[0m\u001b[0m\n\u001b[0;32m--> 440\u001b[0;31m             \u001b[0mself\u001b[0m\u001b[0;34m.\u001b[0m\u001b[0merror_handler\u001b[0m\u001b[0;34m.\u001b[0m\u001b[0mcheck_response\u001b[0m\u001b[0;34m(\u001b[0m\u001b[0mresponse\u001b[0m\u001b[0;34m)\u001b[0m\u001b[0;34m\u001b[0m\u001b[0;34m\u001b[0m\u001b[0m\n\u001b[0m\u001b[1;32m    441\u001b[0m             \u001b[0mresponse\u001b[0m\u001b[0;34m[\u001b[0m\u001b[0;34m\"value\"\u001b[0m\u001b[0;34m]\u001b[0m \u001b[0;34m=\u001b[0m \u001b[0mself\u001b[0m\u001b[0;34m.\u001b[0m\u001b[0m_unwrap_value\u001b[0m\u001b[0;34m(\u001b[0m\u001b[0mresponse\u001b[0m\u001b[0;34m.\u001b[0m\u001b[0mget\u001b[0m\u001b[0;34m(\u001b[0m\u001b[0;34m\"value\"\u001b[0m\u001b[0;34m,\u001b[0m \u001b[0;32mNone\u001b[0m\u001b[0;34m)\u001b[0m\u001b[0;34m)\u001b[0m\u001b[0;34m\u001b[0m\u001b[0;34m\u001b[0m\u001b[0m\n\u001b[1;32m    442\u001b[0m             \u001b[0;32mreturn\u001b[0m \u001b[0mresponse\u001b[0m\u001b[0;34m\u001b[0m\u001b[0;34m\u001b[0m\u001b[0m\n",
      "\u001b[0;32m~/opt/anaconda3/lib/python3.9/site-packages/selenium/webdriver/remote/errorhandler.py\u001b[0m in \u001b[0;36mcheck_response\u001b[0;34m(self, response)\u001b[0m\n\u001b[1;32m    243\u001b[0m                 \u001b[0malert_text\u001b[0m \u001b[0;34m=\u001b[0m \u001b[0mvalue\u001b[0m\u001b[0;34m[\u001b[0m\u001b[0;34m\"alert\"\u001b[0m\u001b[0;34m]\u001b[0m\u001b[0;34m.\u001b[0m\u001b[0mget\u001b[0m\u001b[0;34m(\u001b[0m\u001b[0;34m\"text\"\u001b[0m\u001b[0;34m)\u001b[0m\u001b[0;34m\u001b[0m\u001b[0;34m\u001b[0m\u001b[0m\n\u001b[1;32m    244\u001b[0m             \u001b[0;32mraise\u001b[0m \u001b[0mexception_class\u001b[0m\u001b[0;34m(\u001b[0m\u001b[0mmessage\u001b[0m\u001b[0;34m,\u001b[0m \u001b[0mscreen\u001b[0m\u001b[0;34m,\u001b[0m \u001b[0mstacktrace\u001b[0m\u001b[0;34m,\u001b[0m \u001b[0malert_text\u001b[0m\u001b[0;34m)\u001b[0m  \u001b[0;31m# type: ignore[call-arg]  # mypy is not smart enough here\u001b[0m\u001b[0;34m\u001b[0m\u001b[0;34m\u001b[0m\u001b[0m\n\u001b[0;32m--> 245\u001b[0;31m         \u001b[0;32mraise\u001b[0m \u001b[0mexception_class\u001b[0m\u001b[0;34m(\u001b[0m\u001b[0mmessage\u001b[0m\u001b[0;34m,\u001b[0m \u001b[0mscreen\u001b[0m\u001b[0;34m,\u001b[0m \u001b[0mstacktrace\u001b[0m\u001b[0;34m)\u001b[0m\u001b[0;34m\u001b[0m\u001b[0;34m\u001b[0m\u001b[0m\n\u001b[0m",
      "\u001b[0;31mElementClickInterceptedException\u001b[0m: Message: element click intercepted: Element <a href=\"https://twitter.com/PostMalone\" data-ved=\"2ahUKEwiRgPrY4N7-AhUXPOwKHdijCtcQFnoECBAQAQ\" ping=\"/url?sa=t&amp;source=web&amp;rct=j&amp;url=https://twitter.com/PostMalone&amp;ved=2ahUKEwiRgPrY4N7-AhUXPOwKHdijCtcQFnoECBAQAQ\">...</a> is not clickable at point (345, 315). Other element would receive the click: <div class=\"GZ7xNe\">...</div>\n  (Session info: chrome=112.0.5615.137)\nStacktrace:\n0   chromedriver                        0x0000000101d47ae8 chromedriver + 4958952\n1   chromedriver                        0x0000000101d3f7b3 chromedriver + 4925363\n2   chromedriver                        0x00000001019011d6 chromedriver + 475606\n3   chromedriver                        0x000000010194e321 chromedriver + 791329\n4   chromedriver                        0x000000010194b36e chromedriver + 779118\n5   chromedriver                        0x0000000101947fd4 chromedriver + 765908\n6   chromedriver                        0x00000001019469af chromedriver + 760239\n7   chromedriver                        0x0000000101937283 chromedriver + 696963\n8   chromedriver                        0x000000010196ac12 chromedriver + 908306\n9   chromedriver                        0x00000001019368f1 chromedriver + 694513\n10  chromedriver                        0x000000010196adce chromedriver + 908750\n11  chromedriver                        0x000000010198625b chromedriver + 1020507\n12  chromedriver                        0x000000010196a9e3 chromedriver + 907747\n13  chromedriver                        0x0000000101934aef chromedriver + 686831\n14  chromedriver                        0x000000010193600e chromedriver + 692238\n15  chromedriver                        0x0000000101d039ad chromedriver + 4680109\n16  chromedriver                        0x0000000101d08c12 chromedriver + 4701202\n17  chromedriver                        0x0000000101d0f79f chromedriver + 4728735\n18  chromedriver                        0x0000000101d09b7a chromedriver + 4705146\n19  chromedriver                        0x0000000101cdc27e chromedriver + 4518526\n20  chromedriver                        0x0000000101d29908 chromedriver + 4835592\n21  chromedriver                        0x0000000101d29a87 chromedriver + 4835975\n22  chromedriver                        0x0000000101d3900f chromedriver + 4898831\n23  libsystem_pthread.dylib             0x00007ff8074c4259 _pthread_start + 125\n24  libsystem_pthread.dylib             0x00007ff8074bfc7b thread_start + 15\n"
     ]
    }
   ],
   "source": [
    "# Aplicar la función a cada celda de la columna \"Artist Name\"\n",
    "df[['Twitter - Tweets', 'Twitter - Followers', 'Instagram - Followers']] = df['Artist Name'].apply(obtener_datos_por_artista).apply(pd.Series)"
   ]
  },
  {
   "cell_type": "code",
   "execution_count": 215,
   "id": "2c0df6f6",
   "metadata": {},
   "outputs": [
    {
     "data": {
      "text/html": [
       "<div>\n",
       "<style scoped>\n",
       "    .dataframe tbody tr th:only-of-type {\n",
       "        vertical-align: middle;\n",
       "    }\n",
       "\n",
       "    .dataframe tbody tr th {\n",
       "        vertical-align: top;\n",
       "    }\n",
       "\n",
       "    .dataframe thead th {\n",
       "        text-align: right;\n",
       "    }\n",
       "</style>\n",
       "<table border=\"1\" class=\"dataframe\">\n",
       "  <thead>\n",
       "    <tr style=\"text-align: right;\">\n",
       "      <th></th>\n",
       "      <th>Artist Name</th>\n",
       "      <th>Song Name</th>\n",
       "      <th>Total Streams</th>\n",
       "    </tr>\n",
       "  </thead>\n",
       "  <tbody>\n",
       "    <tr>\n",
       "      <th>0</th>\n",
       "      <td>Post Malone</td>\n",
       "      <td>Sunflower  SpiderMan: Into the SpiderVerse</td>\n",
       "      <td>883369738</td>\n",
       "    </tr>\n",
       "    <tr>\n",
       "      <th>1</th>\n",
       "      <td>Juice WRLD</td>\n",
       "      <td>Lucid Dreams</td>\n",
       "      <td>864832399</td>\n",
       "    </tr>\n",
       "    <tr>\n",
       "      <th>2</th>\n",
       "      <td>Lil Uzi Vert</td>\n",
       "      <td>XO TOUR Llif3</td>\n",
       "      <td>781153024</td>\n",
       "    </tr>\n",
       "    <tr>\n",
       "      <th>3</th>\n",
       "      <td>J. Cole</td>\n",
       "      <td>No Role Modelz</td>\n",
       "      <td>734857487</td>\n",
       "    </tr>\n",
       "    <tr>\n",
       "      <th>4</th>\n",
       "      <td>Post Malone</td>\n",
       "      <td>rockstar</td>\n",
       "      <td>718865961</td>\n",
       "    </tr>\n",
       "    <tr>\n",
       "      <th>...</th>\n",
       "      <td>...</td>\n",
       "      <td>...</td>\n",
       "      <td>...</td>\n",
       "    </tr>\n",
       "    <tr>\n",
       "      <th>11079</th>\n",
       "      <td>The Band Perry</td>\n",
       "      <td>If I Die Young</td>\n",
       "      <td>51321</td>\n",
       "    </tr>\n",
       "    <tr>\n",
       "      <th>11080</th>\n",
       "      <td>Justin Timberlake</td>\n",
       "      <td>Not a Bad Thing</td>\n",
       "      <td>49512</td>\n",
       "    </tr>\n",
       "    <tr>\n",
       "      <th>11081</th>\n",
       "      <td>Mike WiLL Made</td>\n",
       "      <td>It  23</td>\n",
       "      <td>46547</td>\n",
       "    </tr>\n",
       "    <tr>\n",
       "      <th>11082</th>\n",
       "      <td>The Vamps</td>\n",
       "      <td>Somebody To You</td>\n",
       "      <td>44962</td>\n",
       "    </tr>\n",
       "    <tr>\n",
       "      <th>11083</th>\n",
       "      <td>JAY</td>\n",
       "      <td>Z  Holy Grail</td>\n",
       "      <td>44323</td>\n",
       "    </tr>\n",
       "  </tbody>\n",
       "</table>\n",
       "<p>11084 rows × 3 columns</p>\n",
       "</div>"
      ],
      "text/plain": [
       "              Artist Name                                   Song Name  \\\n",
       "0            Post Malone   Sunflower  SpiderMan: Into the SpiderVerse   \n",
       "1             Juice WRLD                                 Lucid Dreams   \n",
       "2           Lil Uzi Vert                                XO TOUR Llif3   \n",
       "3                J. Cole                               No Role Modelz   \n",
       "4            Post Malone                                     rockstar   \n",
       "...                   ...                                         ...   \n",
       "11079     The Band Perry                               If I Die Young   \n",
       "11080  Justin Timberlake                              Not a Bad Thing   \n",
       "11081      Mike WiLL Made                                      It  23   \n",
       "11082          The Vamps                              Somebody To You   \n",
       "11083                 JAY                               Z  Holy Grail   \n",
       "\n",
       "       Total Streams  \n",
       "0          883369738  \n",
       "1          864832399  \n",
       "2          781153024  \n",
       "3          734857487  \n",
       "4          718865961  \n",
       "...              ...  \n",
       "11079          51321  \n",
       "11080          49512  \n",
       "11081          46547  \n",
       "11082          44962  \n",
       "11083          44323  \n",
       "\n",
       "[11084 rows x 3 columns]"
      ]
     },
     "execution_count": 215,
     "metadata": {},
     "output_type": "execute_result"
    }
   ],
   "source": [
    "df"
   ]
  },
  {
   "cell_type": "code",
   "execution_count": null,
   "id": "f8070965",
   "metadata": {},
   "outputs": [],
   "source": []
  }
 ],
 "metadata": {
  "kernelspec": {
   "display_name": "Python 3 (ipykernel)",
   "language": "python",
   "name": "python3"
  },
  "language_info": {
   "codemirror_mode": {
    "name": "ipython",
    "version": 3
   },
   "file_extension": ".py",
   "mimetype": "text/x-python",
   "name": "python",
   "nbconvert_exporter": "python",
   "pygments_lexer": "ipython3",
   "version": "3.9.13"
  }
 },
 "nbformat": 4,
 "nbformat_minor": 5
}
