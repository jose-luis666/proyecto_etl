{
 "cells": [
  {
   "cell_type": "code",
   "execution_count": 54,
   "id": "a51c6cb1",
   "metadata": {},
   "outputs": [],
   "source": [
    "import pandas as pd\n",
    "import numpy as np\n",
    "from selenium import webdriver\n",
    "from webdriver_manager.chrome import ChromeDriverManager # sustituye al archivo"
   ]
  },
  {
   "cell_type": "code",
   "execution_count": 50,
   "id": "24c81cf3",
   "metadata": {},
   "outputs": [],
   "source": [
    "path = 'Spotify_final_dataset.csv'\n",
    "df = pd.read_csv(path)"
   ]
  },
  {
   "cell_type": "code",
   "execution_count": 51,
   "id": "5fb69a0f",
   "metadata": {},
   "outputs": [
    {
     "data": {
      "text/html": [
       "<div>\n",
       "<style scoped>\n",
       "    .dataframe tbody tr th:only-of-type {\n",
       "        vertical-align: middle;\n",
       "    }\n",
       "\n",
       "    .dataframe tbody tr th {\n",
       "        vertical-align: top;\n",
       "    }\n",
       "\n",
       "    .dataframe thead th {\n",
       "        text-align: right;\n",
       "    }\n",
       "</style>\n",
       "<table border=\"1\" class=\"dataframe\">\n",
       "  <thead>\n",
       "    <tr style=\"text-align: right;\">\n",
       "      <th></th>\n",
       "      <th>Position</th>\n",
       "      <th>Artist Name</th>\n",
       "      <th>Song Name</th>\n",
       "      <th>Days</th>\n",
       "      <th>Top 10 (xTimes)</th>\n",
       "      <th>Peak Position</th>\n",
       "      <th>Peak Position (xTimes)</th>\n",
       "      <th>Peak Streams</th>\n",
       "      <th>Total Streams</th>\n",
       "    </tr>\n",
       "  </thead>\n",
       "  <tbody>\n",
       "    <tr>\n",
       "      <th>0</th>\n",
       "      <td>1</td>\n",
       "      <td>Post Malone</td>\n",
       "      <td>Sunflower  SpiderMan: Into the SpiderVerse</td>\n",
       "      <td>1506</td>\n",
       "      <td>302.0</td>\n",
       "      <td>1</td>\n",
       "      <td>(x29)</td>\n",
       "      <td>2118242</td>\n",
       "      <td>883369738</td>\n",
       "    </tr>\n",
       "    <tr>\n",
       "      <th>1</th>\n",
       "      <td>2</td>\n",
       "      <td>Juice WRLD</td>\n",
       "      <td>Lucid Dreams</td>\n",
       "      <td>1673</td>\n",
       "      <td>178.0</td>\n",
       "      <td>1</td>\n",
       "      <td>(x20)</td>\n",
       "      <td>2127668</td>\n",
       "      <td>864832399</td>\n",
       "    </tr>\n",
       "    <tr>\n",
       "      <th>2</th>\n",
       "      <td>3</td>\n",
       "      <td>Lil Uzi Vert</td>\n",
       "      <td>XO TOUR Llif3</td>\n",
       "      <td>1853</td>\n",
       "      <td>212.0</td>\n",
       "      <td>1</td>\n",
       "      <td>(x4)</td>\n",
       "      <td>1660502</td>\n",
       "      <td>781153024</td>\n",
       "    </tr>\n",
       "    <tr>\n",
       "      <th>3</th>\n",
       "      <td>4</td>\n",
       "      <td>J. Cole</td>\n",
       "      <td>No Role Modelz</td>\n",
       "      <td>2547</td>\n",
       "      <td>6.0</td>\n",
       "      <td>7</td>\n",
       "      <td>0</td>\n",
       "      <td>659366</td>\n",
       "      <td>734857487</td>\n",
       "    </tr>\n",
       "    <tr>\n",
       "      <th>4</th>\n",
       "      <td>5</td>\n",
       "      <td>Post Malone</td>\n",
       "      <td>rockstar</td>\n",
       "      <td>1223</td>\n",
       "      <td>186.0</td>\n",
       "      <td>1</td>\n",
       "      <td>(x124)</td>\n",
       "      <td>2905678</td>\n",
       "      <td>718865961</td>\n",
       "    </tr>\n",
       "    <tr>\n",
       "      <th>...</th>\n",
       "      <td>...</td>\n",
       "      <td>...</td>\n",
       "      <td>...</td>\n",
       "      <td>...</td>\n",
       "      <td>...</td>\n",
       "      <td>...</td>\n",
       "      <td>...</td>\n",
       "      <td>...</td>\n",
       "      <td>...</td>\n",
       "    </tr>\n",
       "    <tr>\n",
       "      <th>11079</th>\n",
       "      <td>11080</td>\n",
       "      <td>The Band Perry</td>\n",
       "      <td>If I Die Young</td>\n",
       "      <td>1</td>\n",
       "      <td>0.0</td>\n",
       "      <td>184</td>\n",
       "      <td>0</td>\n",
       "      <td>51321</td>\n",
       "      <td>51321</td>\n",
       "    </tr>\n",
       "    <tr>\n",
       "      <th>11080</th>\n",
       "      <td>11081</td>\n",
       "      <td>Justin Timberlake</td>\n",
       "      <td>Not a Bad Thing</td>\n",
       "      <td>1</td>\n",
       "      <td>0.0</td>\n",
       "      <td>196</td>\n",
       "      <td>0</td>\n",
       "      <td>49512</td>\n",
       "      <td>49512</td>\n",
       "    </tr>\n",
       "    <tr>\n",
       "      <th>11081</th>\n",
       "      <td>11082</td>\n",
       "      <td>Mike WiLL Made</td>\n",
       "      <td>It  23</td>\n",
       "      <td>1</td>\n",
       "      <td>0.0</td>\n",
       "      <td>167</td>\n",
       "      <td>0</td>\n",
       "      <td>46547</td>\n",
       "      <td>46547</td>\n",
       "    </tr>\n",
       "    <tr>\n",
       "      <th>11082</th>\n",
       "      <td>11083</td>\n",
       "      <td>The Vamps</td>\n",
       "      <td>Somebody To You</td>\n",
       "      <td>1</td>\n",
       "      <td>0.0</td>\n",
       "      <td>200</td>\n",
       "      <td>0</td>\n",
       "      <td>44962</td>\n",
       "      <td>44962</td>\n",
       "    </tr>\n",
       "    <tr>\n",
       "      <th>11083</th>\n",
       "      <td>11084</td>\n",
       "      <td>JAY</td>\n",
       "      <td>Z  Holy Grail</td>\n",
       "      <td>1</td>\n",
       "      <td>0.0</td>\n",
       "      <td>184</td>\n",
       "      <td>0</td>\n",
       "      <td>44323</td>\n",
       "      <td>44323</td>\n",
       "    </tr>\n",
       "  </tbody>\n",
       "</table>\n",
       "<p>11084 rows × 9 columns</p>\n",
       "</div>"
      ],
      "text/plain": [
       "       Position         Artist Name  \\\n",
       "0             1        Post Malone    \n",
       "1             2         Juice WRLD    \n",
       "2             3       Lil Uzi Vert    \n",
       "3             4            J. Cole    \n",
       "4             5        Post Malone    \n",
       "...         ...                 ...   \n",
       "11079     11080     The Band Perry    \n",
       "11080     11081  Justin Timberlake    \n",
       "11081     11082      Mike WiLL Made   \n",
       "11082     11083          The Vamps    \n",
       "11083     11084                 JAY   \n",
       "\n",
       "                                        Song Name  Days  Top 10 (xTimes)  \\\n",
       "0      Sunflower  SpiderMan: Into the SpiderVerse  1506            302.0   \n",
       "1                                    Lucid Dreams  1673            178.0   \n",
       "2                                   XO TOUR Llif3  1853            212.0   \n",
       "3                                  No Role Modelz  2547              6.0   \n",
       "4                                        rockstar  1223            186.0   \n",
       "...                                           ...   ...              ...   \n",
       "11079                              If I Die Young     1              0.0   \n",
       "11080                             Not a Bad Thing     1              0.0   \n",
       "11081                                      It  23     1              0.0   \n",
       "11082                             Somebody To You     1              0.0   \n",
       "11083                               Z  Holy Grail     1              0.0   \n",
       "\n",
       "       Peak Position Peak Position (xTimes)  Peak Streams  Total Streams  \n",
       "0                  1                  (x29)       2118242      883369738  \n",
       "1                  1                  (x20)       2127668      864832399  \n",
       "2                  1                   (x4)       1660502      781153024  \n",
       "3                  7                      0        659366      734857487  \n",
       "4                  1                 (x124)       2905678      718865961  \n",
       "...              ...                    ...           ...            ...  \n",
       "11079            184                      0         51321          51321  \n",
       "11080            196                      0         49512          49512  \n",
       "11081            167                      0         46547          46547  \n",
       "11082            200                      0         44962          44962  \n",
       "11083            184                      0         44323          44323  \n",
       "\n",
       "[11084 rows x 9 columns]"
      ]
     },
     "execution_count": 51,
     "metadata": {},
     "output_type": "execute_result"
    }
   ],
   "source": [
    "df"
   ]
  },
  {
   "cell_type": "code",
   "execution_count": 52,
   "id": "3384e3ca",
   "metadata": {},
   "outputs": [],
   "source": [
    "df = df.drop(['Days', 'Position', 'Top 10 (xTimes)', 'Peak Position', 'Peak Position (xTimes)', 'Peak Streams'], axis=1)"
   ]
  },
  {
   "cell_type": "code",
   "execution_count": 53,
   "id": "e96b3136",
   "metadata": {},
   "outputs": [
    {
     "data": {
      "text/html": [
       "<div>\n",
       "<style scoped>\n",
       "    .dataframe tbody tr th:only-of-type {\n",
       "        vertical-align: middle;\n",
       "    }\n",
       "\n",
       "    .dataframe tbody tr th {\n",
       "        vertical-align: top;\n",
       "    }\n",
       "\n",
       "    .dataframe thead th {\n",
       "        text-align: right;\n",
       "    }\n",
       "</style>\n",
       "<table border=\"1\" class=\"dataframe\">\n",
       "  <thead>\n",
       "    <tr style=\"text-align: right;\">\n",
       "      <th></th>\n",
       "      <th>Artist Name</th>\n",
       "      <th>Song Name</th>\n",
       "      <th>Total Streams</th>\n",
       "    </tr>\n",
       "  </thead>\n",
       "  <tbody>\n",
       "    <tr>\n",
       "      <th>0</th>\n",
       "      <td>Post Malone</td>\n",
       "      <td>Sunflower  SpiderMan: Into the SpiderVerse</td>\n",
       "      <td>883369738</td>\n",
       "    </tr>\n",
       "    <tr>\n",
       "      <th>1</th>\n",
       "      <td>Juice WRLD</td>\n",
       "      <td>Lucid Dreams</td>\n",
       "      <td>864832399</td>\n",
       "    </tr>\n",
       "    <tr>\n",
       "      <th>2</th>\n",
       "      <td>Lil Uzi Vert</td>\n",
       "      <td>XO TOUR Llif3</td>\n",
       "      <td>781153024</td>\n",
       "    </tr>\n",
       "    <tr>\n",
       "      <th>3</th>\n",
       "      <td>J. Cole</td>\n",
       "      <td>No Role Modelz</td>\n",
       "      <td>734857487</td>\n",
       "    </tr>\n",
       "    <tr>\n",
       "      <th>4</th>\n",
       "      <td>Post Malone</td>\n",
       "      <td>rockstar</td>\n",
       "      <td>718865961</td>\n",
       "    </tr>\n",
       "    <tr>\n",
       "      <th>...</th>\n",
       "      <td>...</td>\n",
       "      <td>...</td>\n",
       "      <td>...</td>\n",
       "    </tr>\n",
       "    <tr>\n",
       "      <th>11079</th>\n",
       "      <td>The Band Perry</td>\n",
       "      <td>If I Die Young</td>\n",
       "      <td>51321</td>\n",
       "    </tr>\n",
       "    <tr>\n",
       "      <th>11080</th>\n",
       "      <td>Justin Timberlake</td>\n",
       "      <td>Not a Bad Thing</td>\n",
       "      <td>49512</td>\n",
       "    </tr>\n",
       "    <tr>\n",
       "      <th>11081</th>\n",
       "      <td>Mike WiLL Made</td>\n",
       "      <td>It  23</td>\n",
       "      <td>46547</td>\n",
       "    </tr>\n",
       "    <tr>\n",
       "      <th>11082</th>\n",
       "      <td>The Vamps</td>\n",
       "      <td>Somebody To You</td>\n",
       "      <td>44962</td>\n",
       "    </tr>\n",
       "    <tr>\n",
       "      <th>11083</th>\n",
       "      <td>JAY</td>\n",
       "      <td>Z  Holy Grail</td>\n",
       "      <td>44323</td>\n",
       "    </tr>\n",
       "  </tbody>\n",
       "</table>\n",
       "<p>11084 rows × 3 columns</p>\n",
       "</div>"
      ],
      "text/plain": [
       "              Artist Name                                   Song Name  \\\n",
       "0            Post Malone   Sunflower  SpiderMan: Into the SpiderVerse   \n",
       "1             Juice WRLD                                 Lucid Dreams   \n",
       "2           Lil Uzi Vert                                XO TOUR Llif3   \n",
       "3                J. Cole                               No Role Modelz   \n",
       "4            Post Malone                                     rockstar   \n",
       "...                   ...                                         ...   \n",
       "11079     The Band Perry                               If I Die Young   \n",
       "11080  Justin Timberlake                              Not a Bad Thing   \n",
       "11081      Mike WiLL Made                                      It  23   \n",
       "11082          The Vamps                              Somebody To You   \n",
       "11083                 JAY                               Z  Holy Grail   \n",
       "\n",
       "       Total Streams  \n",
       "0          883369738  \n",
       "1          864832399  \n",
       "2          781153024  \n",
       "3          734857487  \n",
       "4          718865961  \n",
       "...              ...  \n",
       "11079          51321  \n",
       "11080          49512  \n",
       "11081          46547  \n",
       "11082          44962  \n",
       "11083          44323  \n",
       "\n",
       "[11084 rows x 3 columns]"
      ]
     },
     "execution_count": 53,
     "metadata": {},
     "output_type": "execute_result"
    }
   ],
   "source": [
    "df"
   ]
  },
  {
   "cell_type": "code",
   "execution_count": 130,
   "id": "5c1572a4",
   "metadata": {},
   "outputs": [],
   "source": [
    "from selenium.webdriver.common.by import By # By es para buscar por tag, clase, id...\n",
    "\n",
    "import time\n",
    "\n",
    "import warnings\n",
    "warnings.filterwarnings('ignore')"
   ]
  },
  {
   "cell_type": "code",
   "execution_count": 131,
   "id": "6c96c787",
   "metadata": {},
   "outputs": [],
   "source": [
    "from selenium.webdriver.chrome.options import Options"
   ]
  },
  {
   "cell_type": "code",
   "execution_count": 132,
   "id": "4812b06f",
   "metadata": {},
   "outputs": [],
   "source": [
    "# opciones del driver\n",
    "\n",
    "opciones=Options()\n",
    "\n",
    "# quita la bandera de ser robot\n",
    "opciones.add_experimental_option('excludeSwitches', ['enable-automation'])\n",
    "opciones.add_experimental_option('useAutomationExtension', False)\n",
    "\n",
    "opciones.headless=False   # si True, no aparece la ventana (headless=no visible)\n",
    "\n",
    "opciones.add_argument('--start-maximized')         # comienza maximizado\n",
    "\n",
    "opciones.add_argument('user-data-dir=selenium')    # mantiene las coockies\n",
    "\n",
    "#driver.find_element(By.XPATH, '//*[@id=\"W0wltc\"]').click()  # rechaza cookies"
   ]
  },
  {
   "cell_type": "code",
   "execution_count": 133,
   "id": "9ce86247",
   "metadata": {},
   "outputs": [],
   "source": [
    "PATH = ChromeDriverManager().install()    # instala driver de chrome"
   ]
  },
  {
   "cell_type": "code",
   "execution_count": 143,
   "id": "2b5ddb1e",
   "metadata": {},
   "outputs": [],
   "source": [
    "URL='https://www.google.es/search?q='\n",
    "\n",
    "busqueda='Post Malone twitter'\n",
    "\n",
    "driver=webdriver.Chrome(PATH, options=opciones)       # abre una venta una de chrome\n",
    "\n",
    "driver.get(URL+busqueda)"
   ]
  },
  {
   "cell_type": "code",
   "execution_count": 144,
   "id": "05c7bff1",
   "metadata": {},
   "outputs": [],
   "source": [
    "caja=driver.find_element(By.CSS_SELECTOR, 'div:nth-child(1) > div > div > div.Z26q7c.UK95Uc.jGGQ5e > div > a')"
   ]
  },
  {
   "cell_type": "code",
   "execution_count": 145,
   "id": "14320b6c",
   "metadata": {},
   "outputs": [],
   "source": [
    "caja.click()"
   ]
  },
  {
   "cell_type": "code",
   "execution_count": 146,
   "id": "7fdaa833",
   "metadata": {},
   "outputs": [
    {
     "data": {
      "text/plain": [
       "'7.768 Tweets'"
      ]
     },
     "execution_count": 146,
     "metadata": {},
     "output_type": "execute_result"
    }
   ],
   "source": [
    "tweets = driver.find_element(By.XPATH, '//*[@id=\"react-root\"]/div/div/div[2]/main/div/div/div/div/div/div[1]/div[1]/div/div/div/div/div/div[2]/div/div')\n",
    "tweets.text"
   ]
  },
  {
   "cell_type": "code",
   "execution_count": 147,
   "id": "66b6dec7",
   "metadata": {},
   "outputs": [
    {
     "data": {
      "text/plain": [
       "'7 M'"
      ]
     },
     "execution_count": 147,
     "metadata": {},
     "output_type": "execute_result"
    }
   ],
   "source": [
    "followers = driver.find_element(By.XPATH, '//*[@id=\"react-root\"]/div/div/div[2]/main/div/div/div/div/div/div[3]/div/div/div/div/div[4]/div[2]/a/span[1]/span')\n",
    "followers.text"
   ]
  },
  {
   "cell_type": "code",
   "execution_count": null,
   "id": "3944abbc",
   "metadata": {},
   "outputs": [],
   "source": []
  },
  {
   "cell_type": "code",
   "execution_count": null,
   "id": "f69b3cca",
   "metadata": {},
   "outputs": [],
   "source": []
  },
  {
   "cell_type": "code",
   "execution_count": null,
   "id": "217e2113",
   "metadata": {},
   "outputs": [],
   "source": []
  },
  {
   "cell_type": "code",
   "execution_count": null,
   "id": "cd11556e",
   "metadata": {},
   "outputs": [],
   "source": []
  },
  {
   "cell_type": "code",
   "execution_count": null,
   "id": "6e103e3e",
   "metadata": {},
   "outputs": [],
   "source": [
    "#INSTAGRAM"
   ]
  },
  {
   "cell_type": "code",
   "execution_count": 148,
   "id": "8ffb7944",
   "metadata": {},
   "outputs": [],
   "source": [
    "URL='https://www.google.es/search?q='\n",
    "\n",
    "busqueda='Post Malone instagram'\n",
    "\n",
    "# driver.find_element(By.XPATH, '//*[@id=\"W0wltc\"]').click()  # rechaza cookies"
   ]
  },
  {
   "cell_type": "code",
   "execution_count": 149,
   "id": "d73006a4",
   "metadata": {},
   "outputs": [],
   "source": [
    "PATH = ChromeDriverManager().install()    # instala driver de chrome\n",
    "\n",
    "driver=webdriver.Chrome(PATH, options=opciones)       # abre una venta una de chrome\n",
    "\n",
    "driver.get(URL+busqueda)"
   ]
  },
  {
   "cell_type": "code",
   "execution_count": 150,
   "id": "e2dd17ee",
   "metadata": {},
   "outputs": [],
   "source": [
    "caja_insta = driver.find_element(By.CSS_SELECTOR, 'div:nth-child(1) > div > div > div.Z26q7c.UK95Uc.jGGQ5e > div > a')\n",
    "caja_insta.click()"
   ]
  },
  {
   "cell_type": "code",
   "execution_count": 155,
   "id": "33939a38",
   "metadata": {},
   "outputs": [
    {
     "data": {
      "text/plain": [
       "'23,3 M'"
      ]
     },
     "execution_count": 155,
     "metadata": {},
     "output_type": "execute_result"
    }
   ],
   "source": [
    "followers_insta = driver.find_element(By.XPATH, '//*[@id=\"mount_0_0_Rp\"]/div/div/div[1]/div/div/div/div[1]/div[2]/section/main/div/ul/li[2]/button/span/span/span')\n",
    "followers_insta.text"
   ]
  },
  {
   "cell_type": "code",
   "execution_count": null,
   "id": "d74e22ad",
   "metadata": {},
   "outputs": [],
   "source": []
  },
  {
   "cell_type": "code",
   "execution_count": null,
   "id": "95fc5e9a",
   "metadata": {},
   "outputs": [],
   "source": []
  },
  {
   "cell_type": "code",
   "execution_count": null,
   "id": "25b2f063",
   "metadata": {},
   "outputs": [],
   "source": []
  },
  {
   "cell_type": "code",
   "execution_count": null,
   "id": "9d28aae7",
   "metadata": {},
   "outputs": [],
   "source": []
  },
  {
   "cell_type": "code",
   "execution_count": null,
   "id": "29fc2dc5",
   "metadata": {},
   "outputs": [],
   "source": []
  },
  {
   "cell_type": "code",
   "execution_count": 204,
   "id": "1577ba56",
   "metadata": {},
   "outputs": [],
   "source": [
    "def obtener_datos():\n",
    "    # Configurar el navegador y la búsqueda\n",
    "    PATH = \"/ruta/al/chromedriver\" # Reemplazar con la ruta del driver de Chrome\n",
    "    opciones = webdriver.ChromeOptions()\n",
    "    opciones.add_argument(\"--start-maximized\") # Maximizar ventana\n",
    "    driver = webdriver.Chrome(PATH, options=opciones)\n",
    "    URL = 'https://www.google.es/search?q='\n",
    "    busqueda = 'Post Malone twitter'\n",
    "\n",
    "    # Abrir página de Google y buscar \"Post Malone twitter\"\n",
    "    driver.get(URL+busqueda)\n",
    "\n",
    "    # Hacer clic en el enlace de Twitter de Post Malone\n",
    "    caja = driver.find_element(By.CSS_SELECTOR, 'div:nth-child(1) > div > div > div.Z26q7c.UK95Uc.jGGQ5e > div > a')\n",
    "    caja.click()\n",
    "\n",
    "    # Obtener cantidad de tweets y seguidores en Twitter\n",
    "    tweets = driver.find_element(By.XPATH, '//*[@id=\"react-root\"]/div/div/div[2]/main/div/div/div/div/div/div[1]/div[1]/div/div/div/div/div/div[2]/div/div').text\n",
    "    followers = driver.find_element(By.XPATH, '//*[@id=\"react-root\"]/div/div/div[2]/main/div/div/div/div/div/div[3]/div/div/div/div/div[4]/div[2]/a/span[1]/span').text\n",
    "\n",
    "    # Cambiar la búsqueda a Instagram\n",
    "    busqueda = 'Post Malone instagram'\n",
    "\n",
    "    # Abrir página de Google y buscar \"Post Malone instagram\"\n",
    "    driver.get(URL+busqueda)\n",
    "\n",
    "    # Hacer clic en el enlace de Instagram de Post Malone\n",
    "    caja_insta = driver.find_element(By.CSS_SELECTOR, 'div:nth-child(1) > div > div > div.Z26q7c.UK95Uc.jGGQ5e > div > a')\n",
    "    caja_insta.click()\n",
    "\n",
    "    # Obtener cantidad de seguidores en Instagram\n",
    "    followers_insta = driver.find_element(By.XPATH, '//*[@id=\"mount_0_0_Rp\"]/div/div/div[1]/div/div/div/div[1]/div[2]/section/main/div/ul/li[2]/button/span/span/span').text\n",
    "\n",
    "    \n",
    "    \n",
    "    # Cerrar el navegador\n",
    "    driver.quit()\n",
    "\n",
    "    # Devolver los datos como una lista\n",
    "    return [tweets, followers, followers_insta]\n"
   ]
  },
  {
   "cell_type": "code",
   "execution_count": 205,
   "id": "060d37a0",
   "metadata": {},
   "outputs": [
    {
     "data": {
      "text/plain": [
       "<function __main__.obtener_datos()>"
      ]
     },
     "execution_count": 205,
     "metadata": {},
     "output_type": "execute_result"
    }
   ],
   "source": [
    "obtener_datos"
   ]
  },
  {
   "cell_type": "code",
   "execution_count": 206,
   "id": "745ed746",
   "metadata": {},
   "outputs": [
    {
     "ename": "TypeError",
     "evalue": "obtener_datos() takes 0 positional arguments but 1 was given",
     "output_type": "error",
     "traceback": [
      "\u001b[0;31m---------------------------------------------------------------------------\u001b[0m",
      "\u001b[0;31mTypeError\u001b[0m                                 Traceback (most recent call last)",
      "\u001b[0;32m/var/folders/75/q598wy0x5rq2j183ndtczjlm0000gn/T/ipykernel_99837/1876905428.py\u001b[0m in \u001b[0;36m<module>\u001b[0;34m\u001b[0m\n\u001b[0;32m----> 1\u001b[0;31m \u001b[0mobtener_datos\u001b[0m\u001b[0;34m(\u001b[0m\u001b[0;34m\"x\"\u001b[0m\u001b[0;34m)\u001b[0m\u001b[0;34m\u001b[0m\u001b[0;34m\u001b[0m\u001b[0m\n\u001b[0m",
      "\u001b[0;31mTypeError\u001b[0m: obtener_datos() takes 0 positional arguments but 1 was given"
     ]
    }
   ],
   "source": [
    "obtener_datos(\"x\")"
   ]
  },
  {
   "cell_type": "code",
   "execution_count": null,
   "id": "d20e29b8",
   "metadata": {},
   "outputs": [],
   "source": []
  },
  {
   "cell_type": "code",
   "execution_count": null,
   "id": "c0aaad59",
   "metadata": {},
   "outputs": [],
   "source": []
  },
  {
   "cell_type": "code",
   "execution_count": null,
   "id": "fc05fdcb",
   "metadata": {},
   "outputs": [],
   "source": []
  }
 ],
 "metadata": {
  "kernelspec": {
   "display_name": "Python 3 (ipykernel)",
   "language": "python",
   "name": "python3"
  },
  "language_info": {
   "codemirror_mode": {
    "name": "ipython",
    "version": 3
   },
   "file_extension": ".py",
   "mimetype": "text/x-python",
   "name": "python",
   "nbconvert_exporter": "python",
   "pygments_lexer": "ipython3",
   "version": "3.9.13"
  }
 },
 "nbformat": 4,
 "nbformat_minor": 5
}
