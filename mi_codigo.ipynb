{
 "cells": [
  {
   "cell_type": "code",
   "execution_count": 1,
   "id": "67e38128",
   "metadata": {},
   "outputs": [],
   "source": [
    "import pandas as pd\n",
    "import numpy as np\n",
    "from selenium import webdriver\n",
    "from webdriver_manager.chrome import ChromeDriverManager # sustituye al archivo"
   ]
  },
  {
   "cell_type": "code",
   "execution_count": 2,
   "id": "ef25a8cc",
   "metadata": {},
   "outputs": [],
   "source": [
    "path = 'Spotify_final_dataset.csv'\n",
    "df = pd.read_csv(path)"
   ]
  },
  {
   "cell_type": "code",
   "execution_count": 3,
   "id": "44786c6b",
   "metadata": {},
   "outputs": [
    {
     "data": {
      "text/html": [
       "<div>\n",
       "<style scoped>\n",
       "    .dataframe tbody tr th:only-of-type {\n",
       "        vertical-align: middle;\n",
       "    }\n",
       "\n",
       "    .dataframe tbody tr th {\n",
       "        vertical-align: top;\n",
       "    }\n",
       "\n",
       "    .dataframe thead th {\n",
       "        text-align: right;\n",
       "    }\n",
       "</style>\n",
       "<table border=\"1\" class=\"dataframe\">\n",
       "  <thead>\n",
       "    <tr style=\"text-align: right;\">\n",
       "      <th></th>\n",
       "      <th>Position</th>\n",
       "      <th>Artist Name</th>\n",
       "      <th>Song Name</th>\n",
       "      <th>Days</th>\n",
       "      <th>Top 10 (xTimes)</th>\n",
       "      <th>Peak Position</th>\n",
       "      <th>Peak Position (xTimes)</th>\n",
       "      <th>Peak Streams</th>\n",
       "      <th>Total Streams</th>\n",
       "    </tr>\n",
       "  </thead>\n",
       "  <tbody>\n",
       "    <tr>\n",
       "      <th>0</th>\n",
       "      <td>1</td>\n",
       "      <td>Post Malone</td>\n",
       "      <td>Sunflower  SpiderMan: Into the SpiderVerse</td>\n",
       "      <td>1506</td>\n",
       "      <td>302.0</td>\n",
       "      <td>1</td>\n",
       "      <td>(x29)</td>\n",
       "      <td>2118242</td>\n",
       "      <td>883369738</td>\n",
       "    </tr>\n",
       "    <tr>\n",
       "      <th>1</th>\n",
       "      <td>2</td>\n",
       "      <td>Juice WRLD</td>\n",
       "      <td>Lucid Dreams</td>\n",
       "      <td>1673</td>\n",
       "      <td>178.0</td>\n",
       "      <td>1</td>\n",
       "      <td>(x20)</td>\n",
       "      <td>2127668</td>\n",
       "      <td>864832399</td>\n",
       "    </tr>\n",
       "    <tr>\n",
       "      <th>2</th>\n",
       "      <td>3</td>\n",
       "      <td>Lil Uzi Vert</td>\n",
       "      <td>XO TOUR Llif3</td>\n",
       "      <td>1853</td>\n",
       "      <td>212.0</td>\n",
       "      <td>1</td>\n",
       "      <td>(x4)</td>\n",
       "      <td>1660502</td>\n",
       "      <td>781153024</td>\n",
       "    </tr>\n",
       "    <tr>\n",
       "      <th>3</th>\n",
       "      <td>4</td>\n",
       "      <td>J. Cole</td>\n",
       "      <td>No Role Modelz</td>\n",
       "      <td>2547</td>\n",
       "      <td>6.0</td>\n",
       "      <td>7</td>\n",
       "      <td>0</td>\n",
       "      <td>659366</td>\n",
       "      <td>734857487</td>\n",
       "    </tr>\n",
       "    <tr>\n",
       "      <th>4</th>\n",
       "      <td>5</td>\n",
       "      <td>Post Malone</td>\n",
       "      <td>rockstar</td>\n",
       "      <td>1223</td>\n",
       "      <td>186.0</td>\n",
       "      <td>1</td>\n",
       "      <td>(x124)</td>\n",
       "      <td>2905678</td>\n",
       "      <td>718865961</td>\n",
       "    </tr>\n",
       "    <tr>\n",
       "      <th>...</th>\n",
       "      <td>...</td>\n",
       "      <td>...</td>\n",
       "      <td>...</td>\n",
       "      <td>...</td>\n",
       "      <td>...</td>\n",
       "      <td>...</td>\n",
       "      <td>...</td>\n",
       "      <td>...</td>\n",
       "      <td>...</td>\n",
       "    </tr>\n",
       "    <tr>\n",
       "      <th>11079</th>\n",
       "      <td>11080</td>\n",
       "      <td>The Band Perry</td>\n",
       "      <td>If I Die Young</td>\n",
       "      <td>1</td>\n",
       "      <td>0.0</td>\n",
       "      <td>184</td>\n",
       "      <td>0</td>\n",
       "      <td>51321</td>\n",
       "      <td>51321</td>\n",
       "    </tr>\n",
       "    <tr>\n",
       "      <th>11080</th>\n",
       "      <td>11081</td>\n",
       "      <td>Justin Timberlake</td>\n",
       "      <td>Not a Bad Thing</td>\n",
       "      <td>1</td>\n",
       "      <td>0.0</td>\n",
       "      <td>196</td>\n",
       "      <td>0</td>\n",
       "      <td>49512</td>\n",
       "      <td>49512</td>\n",
       "    </tr>\n",
       "    <tr>\n",
       "      <th>11081</th>\n",
       "      <td>11082</td>\n",
       "      <td>Mike WiLL Made</td>\n",
       "      <td>It  23</td>\n",
       "      <td>1</td>\n",
       "      <td>0.0</td>\n",
       "      <td>167</td>\n",
       "      <td>0</td>\n",
       "      <td>46547</td>\n",
       "      <td>46547</td>\n",
       "    </tr>\n",
       "    <tr>\n",
       "      <th>11082</th>\n",
       "      <td>11083</td>\n",
       "      <td>The Vamps</td>\n",
       "      <td>Somebody To You</td>\n",
       "      <td>1</td>\n",
       "      <td>0.0</td>\n",
       "      <td>200</td>\n",
       "      <td>0</td>\n",
       "      <td>44962</td>\n",
       "      <td>44962</td>\n",
       "    </tr>\n",
       "    <tr>\n",
       "      <th>11083</th>\n",
       "      <td>11084</td>\n",
       "      <td>JAY</td>\n",
       "      <td>Z  Holy Grail</td>\n",
       "      <td>1</td>\n",
       "      <td>0.0</td>\n",
       "      <td>184</td>\n",
       "      <td>0</td>\n",
       "      <td>44323</td>\n",
       "      <td>44323</td>\n",
       "    </tr>\n",
       "  </tbody>\n",
       "</table>\n",
       "<p>11084 rows × 9 columns</p>\n",
       "</div>"
      ],
      "text/plain": [
       "       Position         Artist Name  \\\n",
       "0             1        Post Malone    \n",
       "1             2         Juice WRLD    \n",
       "2             3       Lil Uzi Vert    \n",
       "3             4            J. Cole    \n",
       "4             5        Post Malone    \n",
       "...         ...                 ...   \n",
       "11079     11080     The Band Perry    \n",
       "11080     11081  Justin Timberlake    \n",
       "11081     11082      Mike WiLL Made   \n",
       "11082     11083          The Vamps    \n",
       "11083     11084                 JAY   \n",
       "\n",
       "                                        Song Name  Days  Top 10 (xTimes)  \\\n",
       "0      Sunflower  SpiderMan: Into the SpiderVerse  1506            302.0   \n",
       "1                                    Lucid Dreams  1673            178.0   \n",
       "2                                   XO TOUR Llif3  1853            212.0   \n",
       "3                                  No Role Modelz  2547              6.0   \n",
       "4                                        rockstar  1223            186.0   \n",
       "...                                           ...   ...              ...   \n",
       "11079                              If I Die Young     1              0.0   \n",
       "11080                             Not a Bad Thing     1              0.0   \n",
       "11081                                      It  23     1              0.0   \n",
       "11082                             Somebody To You     1              0.0   \n",
       "11083                               Z  Holy Grail     1              0.0   \n",
       "\n",
       "       Peak Position Peak Position (xTimes)  Peak Streams  Total Streams  \n",
       "0                  1                  (x29)       2118242      883369738  \n",
       "1                  1                  (x20)       2127668      864832399  \n",
       "2                  1                   (x4)       1660502      781153024  \n",
       "3                  7                      0        659366      734857487  \n",
       "4                  1                 (x124)       2905678      718865961  \n",
       "...              ...                    ...           ...            ...  \n",
       "11079            184                      0         51321          51321  \n",
       "11080            196                      0         49512          49512  \n",
       "11081            167                      0         46547          46547  \n",
       "11082            200                      0         44962          44962  \n",
       "11083            184                      0         44323          44323  \n",
       "\n",
       "[11084 rows x 9 columns]"
      ]
     },
     "execution_count": 3,
     "metadata": {},
     "output_type": "execute_result"
    }
   ],
   "source": [
    "df"
   ]
  },
  {
   "cell_type": "code",
   "execution_count": 4,
   "id": "ba8e6fdc",
   "metadata": {},
   "outputs": [],
   "source": [
    "df = df.drop(['Days', 'Position', 'Top 10 (xTimes)', 'Peak Position', 'Peak Position (xTimes)', 'Peak Streams'], axis=1)"
   ]
  },
  {
   "cell_type": "code",
   "execution_count": 5,
   "id": "663bfead",
   "metadata": {},
   "outputs": [
    {
     "data": {
      "text/html": [
       "<div>\n",
       "<style scoped>\n",
       "    .dataframe tbody tr th:only-of-type {\n",
       "        vertical-align: middle;\n",
       "    }\n",
       "\n",
       "    .dataframe tbody tr th {\n",
       "        vertical-align: top;\n",
       "    }\n",
       "\n",
       "    .dataframe thead th {\n",
       "        text-align: right;\n",
       "    }\n",
       "</style>\n",
       "<table border=\"1\" class=\"dataframe\">\n",
       "  <thead>\n",
       "    <tr style=\"text-align: right;\">\n",
       "      <th></th>\n",
       "      <th>Artist Name</th>\n",
       "      <th>Song Name</th>\n",
       "      <th>Total Streams</th>\n",
       "    </tr>\n",
       "  </thead>\n",
       "  <tbody>\n",
       "    <tr>\n",
       "      <th>0</th>\n",
       "      <td>Post Malone</td>\n",
       "      <td>Sunflower  SpiderMan: Into the SpiderVerse</td>\n",
       "      <td>883369738</td>\n",
       "    </tr>\n",
       "    <tr>\n",
       "      <th>1</th>\n",
       "      <td>Juice WRLD</td>\n",
       "      <td>Lucid Dreams</td>\n",
       "      <td>864832399</td>\n",
       "    </tr>\n",
       "    <tr>\n",
       "      <th>2</th>\n",
       "      <td>Lil Uzi Vert</td>\n",
       "      <td>XO TOUR Llif3</td>\n",
       "      <td>781153024</td>\n",
       "    </tr>\n",
       "    <tr>\n",
       "      <th>3</th>\n",
       "      <td>J. Cole</td>\n",
       "      <td>No Role Modelz</td>\n",
       "      <td>734857487</td>\n",
       "    </tr>\n",
       "    <tr>\n",
       "      <th>4</th>\n",
       "      <td>Post Malone</td>\n",
       "      <td>rockstar</td>\n",
       "      <td>718865961</td>\n",
       "    </tr>\n",
       "    <tr>\n",
       "      <th>...</th>\n",
       "      <td>...</td>\n",
       "      <td>...</td>\n",
       "      <td>...</td>\n",
       "    </tr>\n",
       "    <tr>\n",
       "      <th>11079</th>\n",
       "      <td>The Band Perry</td>\n",
       "      <td>If I Die Young</td>\n",
       "      <td>51321</td>\n",
       "    </tr>\n",
       "    <tr>\n",
       "      <th>11080</th>\n",
       "      <td>Justin Timberlake</td>\n",
       "      <td>Not a Bad Thing</td>\n",
       "      <td>49512</td>\n",
       "    </tr>\n",
       "    <tr>\n",
       "      <th>11081</th>\n",
       "      <td>Mike WiLL Made</td>\n",
       "      <td>It  23</td>\n",
       "      <td>46547</td>\n",
       "    </tr>\n",
       "    <tr>\n",
       "      <th>11082</th>\n",
       "      <td>The Vamps</td>\n",
       "      <td>Somebody To You</td>\n",
       "      <td>44962</td>\n",
       "    </tr>\n",
       "    <tr>\n",
       "      <th>11083</th>\n",
       "      <td>JAY</td>\n",
       "      <td>Z  Holy Grail</td>\n",
       "      <td>44323</td>\n",
       "    </tr>\n",
       "  </tbody>\n",
       "</table>\n",
       "<p>11084 rows × 3 columns</p>\n",
       "</div>"
      ],
      "text/plain": [
       "              Artist Name                                   Song Name  \\\n",
       "0            Post Malone   Sunflower  SpiderMan: Into the SpiderVerse   \n",
       "1             Juice WRLD                                 Lucid Dreams   \n",
       "2           Lil Uzi Vert                                XO TOUR Llif3   \n",
       "3                J. Cole                               No Role Modelz   \n",
       "4            Post Malone                                     rockstar   \n",
       "...                   ...                                         ...   \n",
       "11079     The Band Perry                               If I Die Young   \n",
       "11080  Justin Timberlake                              Not a Bad Thing   \n",
       "11081      Mike WiLL Made                                      It  23   \n",
       "11082          The Vamps                              Somebody To You   \n",
       "11083                 JAY                               Z  Holy Grail   \n",
       "\n",
       "       Total Streams  \n",
       "0          883369738  \n",
       "1          864832399  \n",
       "2          781153024  \n",
       "3          734857487  \n",
       "4          718865961  \n",
       "...              ...  \n",
       "11079          51321  \n",
       "11080          49512  \n",
       "11081          46547  \n",
       "11082          44962  \n",
       "11083          44323  \n",
       "\n",
       "[11084 rows x 3 columns]"
      ]
     },
     "execution_count": 5,
     "metadata": {},
     "output_type": "execute_result"
    }
   ],
   "source": [
    "df"
   ]
  },
  {
   "cell_type": "code",
   "execution_count": 6,
   "id": "fb1aaeb5",
   "metadata": {},
   "outputs": [],
   "source": [
    "from selenium.webdriver.common.by import By # By es para buscar por tag, clase, id...\n",
    "\n",
    "import time\n",
    "\n",
    "import warnings\n",
    "warnings.filterwarnings('ignore')"
   ]
  },
  {
   "cell_type": "code",
   "execution_count": 7,
   "id": "ce098ad8",
   "metadata": {},
   "outputs": [],
   "source": [
    "from selenium.webdriver.chrome.options import Options"
   ]
  },
  {
   "cell_type": "code",
   "execution_count": 8,
   "id": "e77a69b4",
   "metadata": {},
   "outputs": [],
   "source": [
    "# opciones del driver\n",
    "\n",
    "opciones=Options()\n",
    "\n",
    "# quita la bandera de ser robot\n",
    "opciones.add_experimental_option('excludeSwitches', ['enable-automation'])\n",
    "opciones.add_experimental_option('useAutomationExtension', False)\n",
    "\n",
    "opciones.headless=False   # si True, no aparece la ventana (headless=no visible)\n",
    "\n",
    "opciones.add_argument('--start-maximized')         # comienza maximizado\n",
    "\n",
    "opciones.add_argument('user-data-dir=selenium')    # mantiene las coockies\n",
    "\n",
    "#driver.find_element(By.XPATH, '//*[@id=\"W0wltc\"]').click()  # rechaza cookies"
   ]
  },
  {
   "cell_type": "code",
   "execution_count": 9,
   "id": "f5d299c4",
   "metadata": {},
   "outputs": [],
   "source": [
    "PATH = ChromeDriverManager().install()    # instala driver de chrome"
   ]
  },
  {
   "cell_type": "code",
   "execution_count": null,
   "id": "7eb73734",
   "metadata": {},
   "outputs": [],
   "source": [
    "URL='https://www.google.es/search?q='\n",
    "\n",
    "busqueda='Post Malone twitter'\n",
    "\n",
    "driver=webdriver.Chrome(PATH, options=opciones)       # abre una venta una de chrome\n",
    "\n",
    "driver.get(URL+busqueda)"
   ]
  },
  {
   "cell_type": "code",
   "execution_count": null,
   "id": "450dc8f4",
   "metadata": {},
   "outputs": [],
   "source": [
    "caja=driver.find_element(By.CSS_SELECTOR, 'div:nth-child(1) > div > div > div.Z26q7c.UK95Uc.jGGQ5e > div > a')"
   ]
  },
  {
   "cell_type": "code",
   "execution_count": null,
   "id": "891d2a0d",
   "metadata": {},
   "outputs": [],
   "source": [
    "caja.click()"
   ]
  },
  {
   "cell_type": "code",
   "execution_count": null,
   "id": "13f4ac8b",
   "metadata": {},
   "outputs": [],
   "source": [
    "tweets = driver.find_element(By.XPATH, '//*[@id=\"react-root\"]/div/div/div[2]/main/div/div/div/div/div/div[1]/div[1]/div/div/div/div/div/div[2]/div/div')\n",
    "tweets.text"
   ]
  },
  {
   "cell_type": "code",
   "execution_count": null,
   "id": "431e9edc",
   "metadata": {},
   "outputs": [],
   "source": [
    "followers = driver.find_element(By.XPATH, '//*[@id=\"react-root\"]/div/div/div[2]/main/div/div/div/div/div/div[3]/div/div/div/div/div[4]/div[2]/a/span[1]/span')\n",
    "followers.text"
   ]
  },
  {
   "cell_type": "code",
   "execution_count": null,
   "id": "13f3d87e",
   "metadata": {},
   "outputs": [],
   "source": []
  },
  {
   "cell_type": "code",
   "execution_count": null,
   "id": "1167ddc3",
   "metadata": {},
   "outputs": [],
   "source": []
  },
  {
   "cell_type": "code",
   "execution_count": null,
   "id": "b562330a",
   "metadata": {},
   "outputs": [],
   "source": []
  },
  {
   "cell_type": "code",
   "execution_count": null,
   "id": "98aa8b85",
   "metadata": {},
   "outputs": [],
   "source": []
  },
  {
   "cell_type": "code",
   "execution_count": null,
   "id": "9dcab32d",
   "metadata": {},
   "outputs": [],
   "source": [
    "#INSTAGRAM"
   ]
  },
  {
   "cell_type": "code",
   "execution_count": null,
   "id": "b2c4161d",
   "metadata": {},
   "outputs": [],
   "source": [
    "URL='https://www.google.es/search?q='\n",
    "\n",
    "busqueda='Post Malone instagram'\n",
    "\n",
    "# driver.find_element(By.XPATH, '//*[@id=\"W0wltc\"]').click()  # rechaza cookies"
   ]
  },
  {
   "cell_type": "code",
   "execution_count": null,
   "id": "e6825998",
   "metadata": {},
   "outputs": [],
   "source": [
    "PATH = ChromeDriverManager().install()    # instala driver de chrome\n",
    "\n",
    "driver=webdriver.Chrome(PATH, options=opciones)       # abre una venta una de chrome\n",
    "\n",
    "driver.get(URL+busqueda)"
   ]
  },
  {
   "cell_type": "code",
   "execution_count": null,
   "id": "a8d5b14c",
   "metadata": {},
   "outputs": [],
   "source": [
    "caja_insta = driver.find_element(By.CSS_SELECTOR, 'div:nth-child(1) > div > div > div.Z26q7c.UK95Uc.jGGQ5e > div > a')\n",
    "caja_insta.click()"
   ]
  },
  {
   "cell_type": "code",
   "execution_count": null,
   "id": "08b41fe5",
   "metadata": {},
   "outputs": [],
   "source": [
    "followers_insta = driver.find_element(By.XPATH, '//*[@id=\"mount_0_0_Rp\"]/div/div/div[1]/div/div/div/div[1]/div[2]/section/main/div/ul/li[2]/button/span/span/span')\n",
    "followers_insta.text"
   ]
  },
  {
   "cell_type": "code",
   "execution_count": null,
   "id": "80318a75",
   "metadata": {},
   "outputs": [],
   "source": []
  },
  {
   "cell_type": "code",
   "execution_count": null,
   "id": "cf8185b9",
   "metadata": {},
   "outputs": [],
   "source": []
  },
  {
   "cell_type": "code",
   "execution_count": null,
   "id": "51f304b9",
   "metadata": {},
   "outputs": [],
   "source": []
  },
  {
   "cell_type": "code",
   "execution_count": null,
   "id": "aa194248",
   "metadata": {},
   "outputs": [],
   "source": []
  },
  {
   "cell_type": "code",
   "execution_count": null,
   "id": "6cdc7238",
   "metadata": {},
   "outputs": [],
   "source": []
  },
  {
   "cell_type": "code",
   "execution_count": 10,
   "id": "d32bbb64",
   "metadata": {},
   "outputs": [],
   "source": [
    "def obtener_datos_twitter(artista):\n",
    "    # Configurar el navegador y la búsqueda\n",
    "    #PATH = \"/ruta/al/chromedriver\" # Reemplazar con la ruta del driver de Chrome\n",
    "    opciones = webdriver.ChromeOptions()\n",
    "    opciones.add_argument(\"--start-maximized\") # Maximizar ventana\n",
    "    driver = webdriver.Chrome(PATH, options=opciones)\n",
    "    URL = 'https://www.google.es/search?q='\n",
    "    busqueda = artista + 'twitter'\n",
    "\n",
    "    # Abrir página de Google y buscar \"Post Malone twitter\"\n",
    "    driver.get(URL+busqueda)\n",
    "    \n",
    "    driver.find_element(By.XPATH, '//*[@id=\"W0wltc\"]').click()  # rechaza cookies\n",
    "\n",
    "    # Hacer clic en el enlace de Twitter de Post Malone\n",
    "    caja = driver.find_element(By.CSS_SELECTOR, 'div:nth-child(1) > div > div > div.Z26q7c.UK95Uc.jGGQ5e > div > a')\n",
    "    caja.click()\n",
    "    \n",
    "    time.sleep(12)\n",
    "    \n",
    "    notificaciones = driver.find_element(By.CSS_SELECTOR, 'div:nth-child(2) > div > div > div > div > div > div.css-1dbjc4n.r-1awozwy.r-1kihuf0.r-18u37iz.r-1pi2tsx.r-1777fci.r-1pjcn9w.r-xr3zp9.r-1xcajam.r-ipm5af.r-g6jmlv > div.css-1dbjc4n.r-14lw9ot.r-1867qdf.r-1jgb5lz.r-pm9dpa.r-1ye8kvj.r-1rnoaur.r-13qz1uu > div > div.css-1dbjc4n.r-1awozwy.r-16y2uox > div > div.css-1dbjc4n.r-98ikmy.r-hvns9x > div.css-1dbjc4n.r-13qz1uu > div.css-18t94o4.css-1dbjc4n.r-1niwhzg.r-1ets6dv.r-sdzlij.r-1phboty.r-rs99b7.r-1wzrnnt.r-19yznuf.r-64el8z.r-1ny4l3l.r-1dye5f7.r-o7ynqc.r-6416eg.r-lrvibr > div > span > span')\n",
    "    notificaciones.click()\n",
    "    \n",
    "    # Obtener cantidad de tweets y seguidores en Twitter\n",
    "    tweets = driver.find_element(By.XPATH, '//*[@id=\"react-root\"]/div/div/div[2]/main/div/div/div/div/div/div[1]/div[1]/div/div/div/div/div/div[2]/div/div').text\n",
    "    followers = driver.find_element(By.XPATH, '//*[@id=\"react-root\"]/div/div/div[2]/main/div/div/div/div/div/div[3]/div/div/div/div/div[4]/div[2]/a/span[1]/span').text\n",
    "\n",
    "    return [tweets, followers]"
   ]
  },
  {
   "cell_type": "code",
   "execution_count": 12,
   "id": "3def9b02",
   "metadata": {},
   "outputs": [
    {
     "data": {
      "text/plain": [
       "['7.768 Tweets', '7 M']"
      ]
     },
     "execution_count": 12,
     "metadata": {},
     "output_type": "execute_result"
    }
   ],
   "source": [
    "obtener_datos_twitter(\"post malone official\")"
   ]
  },
  {
   "cell_type": "code",
   "execution_count": null,
   "id": "02887242",
   "metadata": {},
   "outputs": [],
   "source": []
  },
  {
   "cell_type": "code",
   "execution_count": null,
   "id": "95e0c56f",
   "metadata": {},
   "outputs": [],
   "source": []
  },
  {
   "cell_type": "code",
   "execution_count": null,
   "id": "c01c40d3",
   "metadata": {},
   "outputs": [],
   "source": []
  },
  {
   "cell_type": "code",
   "execution_count": null,
   "id": "0d8c71e2",
   "metadata": {},
   "outputs": [],
   "source": []
  },
  {
   "cell_type": "code",
   "execution_count": null,
   "id": "8508d694",
   "metadata": {},
   "outputs": [],
   "source": []
  },
  {
   "cell_type": "code",
   "execution_count": null,
   "id": "1ab4778f",
   "metadata": {},
   "outputs": [],
   "source": []
  },
  {
   "cell_type": "code",
   "execution_count": null,
   "id": "7fe924fb",
   "metadata": {},
   "outputs": [],
   "source": []
  },
  {
   "cell_type": "code",
   "execution_count": null,
   "id": "ac6016cb",
   "metadata": {},
   "outputs": [],
   "source": []
  },
  {
   "cell_type": "code",
   "execution_count": null,
   "id": "f7125eaf",
   "metadata": {},
   "outputs": [],
   "source": []
  },
  {
   "cell_type": "code",
   "execution_count": null,
   "id": "8ae4a6d7",
   "metadata": {},
   "outputs": [],
   "source": []
  },
  {
   "cell_type": "code",
   "execution_count": null,
   "id": "818dad64",
   "metadata": {},
   "outputs": [],
   "source": []
  },
  {
   "cell_type": "code",
   "execution_count": null,
   "id": "03d6f620",
   "metadata": {},
   "outputs": [],
   "source": []
  },
  {
   "cell_type": "code",
   "execution_count": null,
   "id": "2c0df6f6",
   "metadata": {},
   "outputs": [],
   "source": []
  },
  {
   "cell_type": "code",
   "execution_count": null,
   "id": "f8070965",
   "metadata": {},
   "outputs": [],
   "source": []
  }
 ],
 "metadata": {
  "kernelspec": {
   "display_name": "Python 3 (ipykernel)",
   "language": "python",
   "name": "python3"
  },
  "language_info": {
   "codemirror_mode": {
    "name": "ipython",
    "version": 3
   },
   "file_extension": ".py",
   "mimetype": "text/x-python",
   "name": "python",
   "nbconvert_exporter": "python",
   "pygments_lexer": "ipython3",
   "version": "3.9.13"
  }
 },
 "nbformat": 4,
 "nbformat_minor": 5
}
